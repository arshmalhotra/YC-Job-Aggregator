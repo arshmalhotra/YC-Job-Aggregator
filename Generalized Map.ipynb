{
 "cells": [
  {
   "cell_type": "code",
   "execution_count": 190,
   "metadata": {},
   "outputs": [],
   "source": [
    "import plotly.graph_objects as go\n",
    "import pandas as pd\n",
    "import random\n",
    "import numpy as np"
   ]
  },
  {
   "cell_type": "code",
   "execution_count": 191,
   "metadata": {},
   "outputs": [
    {
     "name": "stdout",
     "output_type": "stream",
     "text": [
      "     Unnamed: 0.1  Unnamed: 0.1.1  \\\n",
      "0               0               1   \n",
      "1               1               2   \n",
      "2               2               3   \n",
      "3               3               4   \n",
      "4               4               5   \n",
      "5               5               6   \n",
      "6               6               7   \n",
      "7               7               8   \n",
      "8               8               9   \n",
      "9               9              10   \n",
      "10             10              11   \n",
      "11             11              12   \n",
      "12             12              13   \n",
      "13             13              14   \n",
      "14             14              15   \n",
      "15             15              16   \n",
      "16             16              17   \n",
      "17             17              18   \n",
      "18             18              19   \n",
      "19             19              20   \n",
      "20             20              21   \n",
      "21             21              22   \n",
      "22             22              23   \n",
      "23             23              24   \n",
      "24             24              25   \n",
      "25             25              26   \n",
      "26             26              27   \n",
      "27             27              28   \n",
      "28             28              29   \n",
      "29             29              30   \n",
      "..            ...             ...   \n",
      "467           467             468   \n",
      "468           468             469   \n",
      "469           469             470   \n",
      "470           470             471   \n",
      "471           471             472   \n",
      "472           472             473   \n",
      "473           473             474   \n",
      "474           474             475   \n",
      "475           475             476   \n",
      "476           476             477   \n",
      "477           477             478   \n",
      "478           478             479   \n",
      "479           479             480   \n",
      "480           480             481   \n",
      "481           481             482   \n",
      "482           482             483   \n",
      "483           483             484   \n",
      "484           484             485   \n",
      "485           485             486   \n",
      "486           486             487   \n",
      "487           487             488   \n",
      "488           488             489   \n",
      "489           489             490   \n",
      "490           490             491   \n",
      "491           491             492   \n",
      "492           492             493   \n",
      "493           493             494   \n",
      "494           494             495   \n",
      "495           495             496   \n",
      "496           496             497   \n",
      "\n",
      "                                            post_title          company  \\\n",
      "0    Able Health (YC W16) is hiring a senior engine...      Able Health   \n",
      "1        The Muse (YC W12) Is Hiring a Director of SEO         The Muse   \n",
      "2    Iris Automation (YC S16) Is Hiring a Head of P...  Iris Automation   \n",
      "3    BuildZoom (YC W13), a better way to remodel, i...        BuildZoom   \n",
      "4    Substack (YC W18) Is Hiring Senior Full-Stack ...         Substack   \n",
      "5    Smarking (YC W15) is hiring a senior back-end ...         Smarking   \n",
      "6    Segment (YC S11) is hiring engineers to join o...          Segment   \n",
      "7    NuCypher (YC S16) is hiring a lead engineer to...         NuCypher   \n",
      "8    Impraise (YC S14) is hiring Ruby and elixir ba...         Impraise   \n",
      "9    CoinTracker (YC W18) Is Hiring Senior Software...      CoinTracker   \n",
      "10   OneSignal (YC S11) is hiring a PM to build the...        OneSignal   \n",
      "11   Able Health (YC W16) is hiring a senior engine...      Able Health   \n",
      "12   Substack (YC W18) Is Hiring Senior Full-Stack ...         Substack   \n",
      "13   Smarking (YC W15) is hiring a Tech Lead to sca...         Smarking   \n",
      "14         The Muse (YC W12) Is Hiring a PM for Search         The Muse   \n",
      "15   Tesorio (YC S15) Is Hiring a Head of Integrati...          Tesorio   \n",
      "16   Chartio (YC S10) Is Hiring Engineers and an En...          Chartio   \n",
      "17   Coinbase (YC S12) Is Hiring iOS, Android, and ...         Coinbase   \n",
      "18   Webflow (YC S13) Hiring Growth Engineers (SF/R...          Webflow   \n",
      "19   Fetch (YC S15) Is Hiring a Head of Growth in A...            Fetch   \n",
      "20   GiveCampus (YC S15) Hiring Engineers and Produ...       GiveCampus   \n",
      "21   ZeroCater (YC W11) Is Hiring a Full-Stack Engi...        ZeroCater   \n",
      "22   OneSignal (YC S11) raised a Series B, is hirin...        OneSignal   \n",
      "23   Tesorio (YC S15) Is Hiring a Head of Integrati...          Tesorio   \n",
      "24   Substack (YC W18) Is Hiring Senior Full Stack ...         Substack   \n",
      "25   Segment (YC S11) is hiring platform engineers ...          Segment   \n",
      "26   DrChrono (YC W11) Python/Django Engineers Want...         DrChrono   \n",
      "27   Human Interest (YC S15) Is Hiring a Business-M...   Human Interest   \n",
      "28   Pyka (YC S17) Is Hiring an Embedded Software E...             Pyka   \n",
      "29   Ambition (YC W14) Is Hiring a Site Reliability...         Ambition   \n",
      "..                                                 ...              ...   \n",
      "467  Bitmovin (YC S15) Is Hiring a Developer Evange...         Bitmovin   \n",
      "468  Precious (YC W18) – AI for Photos – Hiring Sen...         Precious   \n",
      "469  Seva Coffee (YC S15) – Laser Beams and Coffee ...      Seva Coffee   \n",
      "470  Guilded (YC S17) is hiring senior full-stack e...          Guilded   \n",
      "471  Streak (YC S11) Is Hiring Back-End Engineers i...           Streak   \n",
      "472  Fond (YC W12) Is Hiring Software Development E...             Fond   \n",
      "473  Standard Cyborg (YC W15) Is Hiring a 3D Machin...  Standard Cyborg   \n",
      "474  Smarking (YC W15) Is Hiring a Senior Back-End ...         Smarking   \n",
      "475  Etleap (YC W13) Is Hiring Senior Java Back-End...           Etleap   \n",
      "476  Triplebyte (YC S15) is looking for remote iOS ...       Triplebyte   \n",
      "477  SmartAsset (YC S12) Is Hiring a Sr. Front End ...       SmartAsset   \n",
      "478  STILT (YC W16) Is Hiring Senior Engineer – Ful...            STILT   \n",
      "479  Atrium (YC W18) Is Hiring Senior Front Eng Eng...           Atrium   \n",
      "480          Smarking (YC W15) Is Hiring Sr. Eng in SF         Smarking   \n",
      "481  SmartAsset (YC S12) Is Hiring a Sr. Software E...       SmartAsset   \n",
      "482  Universe (YC W18) Is Hiring an iOS Engineer (R...         Universe   \n",
      "483  OwnLocal (YC W10) is hiring a back end Enginee...         OwnLocal   \n",
      "484  Impraise (YC S14) Is Hiring DevOps Engineers i...         Impraise   \n",
      "485  Transcriptic (YC W15) is hiring software engin...     Transcriptic   \n",
      "486  Fond (YC W12) Is Hiring a Principal Engineer i...             Fond   \n",
      "487    Smarking (YC W15) Is Hiring Sr. Engineers in SF         Smarking   \n",
      "488  PlanGrid (YC W12) Hiring UX Research Manager, ...         PlanGrid   \n",
      "489      Gemnote (YC S15) Hiring CTO/VP of Engineering          Gemnote   \n",
      "490  Clever (YC S12) is hiring engineers to help ch...           Clever   \n",
      "491  Armory (YC W17) Seeking Senior Engineers that ...           Armory   \n",
      "492  Willing (YC S15) Is Hiring an Engineering Manager          Willing   \n",
      "493  Universe (YC W18) Is Hiring an iOS Engineer (R...         Universe   \n",
      "494  GitLab (YC W15) Is Hiring a Senior Database En...           GitLab   \n",
      "495  Streak (YC S11) Is Hiring Back-End Engineers i...           Streak   \n",
      "496  Bitmovin (YC S15) Is Hiring a Director of PR a...         Bitmovin   \n",
      "\n",
      "       date_posted                   hiring  \\\n",
      "0        1 day ago             ['Engineer']   \n",
      "1        1 day ago             ['Director']   \n",
      "2       3 days ago            ['Head/Lead']   \n",
      "3       4 days ago                ['Sales']   \n",
      "4       6 days ago             ['Engineer']   \n",
      "5       6 days ago            ['Head/Lead']   \n",
      "6       6 days ago             ['Engineer']   \n",
      "7       7 days ago            ['Head/Lead']   \n",
      "8       8 days ago             ['Engineer']   \n",
      "9      12 days ago             ['Engineer']   \n",
      "10     15 days ago              ['Manager']   \n",
      "11     19 days ago             ['Engineer']   \n",
      "12     20 days ago             ['Engineer']   \n",
      "13     20 days ago            ['Head/Lead']   \n",
      "14     22 days ago              ['Manager']   \n",
      "15     25 days ago            ['Head/Lead']   \n",
      "16     26 days ago  ['Engineer', 'Manager']   \n",
      "17     27 days ago             ['Engineer']   \n",
      "18     27 days ago             ['Engineer']   \n",
      "19     28 days ago            ['Head/Lead']   \n",
      "20     28 days ago             ['Engineer']   \n",
      "21     29 days ago             ['Engineer']   \n",
      "22     33 days ago             ['Engineer']   \n",
      "23     33 days ago            ['Head/Lead']   \n",
      "24     33 days ago             ['Engineer']   \n",
      "25     33 days ago             ['Engineer']   \n",
      "26     34 days ago             ['Engineer']   \n",
      "27     34 days ago             ['Engineer']   \n",
      "28     35 days ago             ['Engineer']   \n",
      "29     35 days ago             ['Engineer']   \n",
      "..             ...                      ...   \n",
      "467    Aug 2, 2018             ['Engineer']   \n",
      "468    Aug 2, 2018             ['Engineer']   \n",
      "469    Aug 1, 2018   ['Head/Lead', 'Sales']   \n",
      "470    Aug 1, 2018             ['Engineer']   \n",
      "471  July 31, 2018             ['Engineer']   \n",
      "472  July 31, 2018  ['Engineer', 'Manager']   \n",
      "473  July 31, 2018             ['Engineer']   \n",
      "474  July 28, 2018             ['Engineer']   \n",
      "475  July 27, 2018             ['Engineer']   \n",
      "476  July 27, 2018             ['Engineer']   \n",
      "477  July 26, 2018             ['Engineer']   \n",
      "478  July 25, 2018  ['Engineer', 'Manager']   \n",
      "479  July 24, 2018             ['Engineer']   \n",
      "480  July 21, 2018             ['Engineer']   \n",
      "481  July 18, 2018             ['Engineer']   \n",
      "482  July 18, 2018             ['Engineer']   \n",
      "483  July 18, 2018             ['Engineer']   \n",
      "484  July 17, 2018             ['Engineer']   \n",
      "485  July 17, 2018             ['Engineer']   \n",
      "486  July 16, 2018             ['Engineer']   \n",
      "487  July 14, 2018             ['Engineer']   \n",
      "488  July 14, 2018              ['Manager']   \n",
      "489  July 13, 2018             ['Engineer']   \n",
      "490  July 13, 2018             ['Engineer']   \n",
      "491  July 13, 2018             ['Engineer']   \n",
      "492  July 11, 2018              ['Manager']   \n",
      "493  July 10, 2018             ['Engineer']   \n",
      "494  July 10, 2018             ['Engineer']   \n",
      "495   July 8, 2018             ['Engineer']   \n",
      "496   July 7, 2018             ['Director']   \n",
      "\n",
      "                                              location               city  \\\n",
      "0       PO Box 225310  San Francisco California, 94122  San Francisco, US   \n",
      "1               New York New York, 10010 United States       New York, US   \n",
      "2    110 Sutter St Ste 300  San Francisco Californi...  San Francisco, US   \n",
      "3                                       Scottsdale, US     Scottsdale, US   \n",
      "4                                    San Francisco, US  San Francisco, US   \n",
      "5                                    San Francisco, US  San Francisco, US   \n",
      "6    100 California St Ste 700  San Francisco Calif...  San Francisco, US   \n",
      "7                                    San Francisco, US  San Francisco, US   \n",
      "8    424 Broadway Unit 602 New York New York, 10013...       New York, US   \n",
      "9                                    San Francisco, US  San Francisco, US   \n",
      "10                San Mateo California,  United States      San Mateo, US   \n",
      "11      PO Box 225310  San Francisco California, 94122  San Francisco, US   \n",
      "12                                   San Francisco, US  San Francisco, US   \n",
      "13                                   San Francisco, US  San Francisco, US   \n",
      "14              New York New York, 10010 United States       New York, US   \n",
      "15         831 Mitten Rd  Burlingame California, 94010     Burlingame, US   \n",
      "16   222 Kearny St Suite 525 San Francisco Californ...  San Francisco, US   \n",
      "17      548 Market St  San Francisco California, 94104  San Francisco, US   \n",
      "18   495 3rd Street  San Francisco California, 9410...  San Francisco, US   \n",
      "19                                         Atlanta, US        Atlanta, US   \n",
      "20                                   San Francisco, US  San Francisco, US   \n",
      "21      428 Waller St  San Francisco California, 94117  San Francisco, US   \n",
      "22                San Mateo California,  United States      San Mateo, US   \n",
      "23         831 Mitten Rd  Burlingame California, 94010     Burlingame, US   \n",
      "24                                   San Francisco, US  San Francisco, US   \n",
      "25                                   New York City, US  New York City, US   \n",
      "26       328 Gibraltar Dr  Sunnyvale California, 94089      Sunnyvale, US   \n",
      "27                                   San Francisco, US  San Francisco, US   \n",
      "28                  Oakland California,  United States        Oakland, US   \n",
      "29   800 Market St. Suite 222 Chattanooga Tennessee...    Chattanooga, US   \n",
      "..                                                 ...                ...   \n",
      "467  301 Howard Street, Suite 1800  San Francisco C...  San Francisco, US   \n",
      "468                                  San Francisco, US  San Francisco, US   \n",
      "469           San Francisco California,  United States  San Francisco, US   \n",
      "470                                  San Francisco, US  San Francisco, US   \n",
      "471  188 King St  San Francisco California, 94107 U...  San Francisco, US   \n",
      "472  33 New Montgomery Suite 700 San Francisco Cali...  San Francisco, US   \n",
      "473                                  San Francisco, US  San Francisco, US   \n",
      "474                                  San Francisco, US  San Francisco, US   \n",
      "475                                  San Francisco, US  San Francisco, US   \n",
      "476           San Francisco California,  United States  San Francisco, US   \n",
      "477                                  New York City, US  New York City, US   \n",
      "478                                  San Francisco, US  San Francisco, US   \n",
      "479                                  San Francisco, US  San Francisco, US   \n",
      "480                                  San Francisco, US  San Francisco, US   \n",
      "481                                  New York City, US  New York City, US   \n",
      "482                                  New York City, US  New York City, US   \n",
      "483  701 Brazos Street STE 1613 Austin Texas, 78701...         Austin, US   \n",
      "484  424 Broadway Unit 602 New York New York, 10013...       New York, US   \n",
      "485              Menlo Park New Jersey,  United States     Menlo Park, US   \n",
      "486  33 New Montgomery Suite 700 San Francisco Cali...  San Francisco, US   \n",
      "487                                  San Francisco, US  San Francisco, US   \n",
      "488   454 Shotwell St  San Francisco California, 94110  San Francisco, US   \n",
      "489                                     Union City, US     Union City, US   \n",
      "490  1263 Mission St.  San Francisco California, 94...  San Francisco, US   \n",
      "491               San Mateo California,  United States      San Mateo, US   \n",
      "492                                          Miami, US          Miami, US   \n",
      "493                                  New York City, US  New York City, US   \n",
      "494  1233 Howard St Apt 2F  San Francisco Californi...  San Francisco, US   \n",
      "495  188 King St  San Francisco California, 94107 U...  San Francisco, US   \n",
      "496  301 Howard Street, Suite 1800  San Francisco C...  San Francisco, US   \n",
      "\n",
      "     funding        lat        long  has_addy abbr  total_funding  \n",
      "0      $0.0m  37.761208 -122.484690      True   CA            0.0  \n",
      "1     $31.7m  40.739460  -73.982571      True   NY     17000000.0  \n",
      "2     $10.0m  37.790225 -122.402697      True   CA            0.0  \n",
      "3     $14.7m  33.494909 -111.926061     False   AZ     47000000.0  \n",
      "4      $2.1m  37.780080 -122.420168     False   CA      1000000.0  \n",
      "5      $3.0m  37.780080 -122.420168     False   CA            0.0  \n",
      "6    $283.7m  37.793949 -122.398062      True   CA    837000000.0  \n",
      "7      $5.2m  37.780080 -122.420168     False   CA      2000000.0  \n",
      "8     $12.3m  40.719571  -74.001355      True   NY     23000000.0  \n",
      "9      $1.6m  37.780080 -122.420168     False   CA      6000000.0  \n",
      "10    $11.0m  37.547166 -122.314351      True   CA     10000000.0  \n",
      "11     $0.0m  37.761208 -122.484690      True   CA            0.0  \n",
      "12     $2.1m  37.780080 -122.420168     False   CA      1000000.0  \n",
      "13     $3.0m  37.780080 -122.420168     False   CA            0.0  \n",
      "14    $31.7m  40.739460  -73.982571      True   NY     17000000.0  \n",
      "15     $7.0m  37.601235 -122.372592      True   CA            0.0  \n",
      "16     $6.8m  37.790196 -122.403663      True   CA      8000000.0  \n",
      "17   $560.5m  37.789977 -122.400863      True   CA    605000000.0  \n",
      "18     $4.4m  37.781574 -122.395828      True   CA      4000000.0  \n",
      "19     $0.0m  33.748547  -84.391502     False   GA            0.0  \n",
      "20     $0.1m  37.780080 -122.420168     False   CA      1000000.0  \n",
      "21    $17.6m  37.771330 -122.430770      True   CA     76000000.0  \n",
      "22    $11.0m  37.547166 -122.314351      True   CA     10000000.0  \n",
      "23     $7.0m  37.601235 -122.372592      True   CA            0.0  \n",
      "24     $2.1m  37.780080 -122.420168     False   CA      1000000.0  \n",
      "25   $283.7m  40.713054  -74.007228     False   NY    837000000.0  \n",
      "26    $40.9m  37.408771 -122.014196      True   CA      9000000.0  \n",
      "27    $14.5m  37.780080 -122.420168     False   CA     45000000.0  \n",
      "28     $3.1m  37.804828 -122.272480      True   CA      1000000.0  \n",
      "29     $2.0m  35.054979  -85.310220      True   TN            0.0  \n",
      "..       ...        ...         ...       ...  ...            ...  \n",
      "467   $40.4m  37.789480 -122.394160      True   CA      4000000.0  \n",
      "468    $0.0m  37.780080 -122.420168     False   CA            0.0  \n",
      "469    $0.1m  37.780080 -122.420168      True   CA      1000000.0  \n",
      "470    $3.3m  37.780080 -122.420168     False   CA      3000000.0  \n",
      "471    $1.9m  37.778632 -122.391816      True   CA      9000000.0  \n",
      "472   $25.9m  37.788653 -122.401333      True   CA     59000000.0  \n",
      "473    $2.5m  37.780080 -122.420168     False   CA      5000000.0  \n",
      "474    $3.0m  37.780080 -122.420168     False   CA            0.0  \n",
      "475    $3.0m  37.780080 -122.420168     False   CA            0.0  \n",
      "476   $48.1m  37.780080 -122.420168      True   CA     81000000.0  \n",
      "477   $51.4m  40.713054  -74.007228     False   NY     14000000.0  \n",
      "478    $2.4m  37.780080 -122.420168     False   CA      4000000.0  \n",
      "479   $75.5m  37.780080 -122.420168     False   CA     55000000.0  \n",
      "480    $3.0m  37.780080 -122.420168     False   CA            0.0  \n",
      "481   $51.4m  40.713054  -74.007228     False   NY     14000000.0  \n",
      "482    $7.3m  40.713054  -74.007228     False   NY      3000000.0  \n",
      "483    $6.9m  30.268947  -97.740415      True   TX      9000000.0  \n",
      "484   $12.3m  40.719571  -74.001355      True   NY     23000000.0  \n",
      "485   $27.8m  40.564999  -74.337799      True   CA     78000000.0  \n",
      "486   $25.9m  37.788653 -122.401333      True   CA     59000000.0  \n",
      "487    $3.0m  37.780080 -122.420168     False   CA            0.0  \n",
      "488  $128.1m  37.761165 -122.416207      True   CA    281000000.0  \n",
      "489    $0.1m  37.588887 -122.027693     False   CA      1000000.0  \n",
      "490   $74.3m  37.776408 -122.413882      True   CA     43000000.0  \n",
      "491   $14.0m  37.547166 -122.314351      True   CA     40000000.0  \n",
      "492    $7.1m  25.775084  -80.194702     False   FL      1000000.0  \n",
      "493    $7.3m  40.713054  -74.007228     False   NY      3000000.0  \n",
      "494  $145.5m  37.775624 -122.411781      True   CA    455000000.0  \n",
      "495    $1.9m  37.778632 -122.391816      True   CA      9000000.0  \n",
      "496   $40.4m  37.789480 -122.394160      True   CA      4000000.0  \n",
      "\n",
      "[497 rows x 14 columns]\n"
     ]
    }
   ],
   "source": [
    "s = pd.read_csv('./output-abbr.csv')\n",
    "cities = s[\"city\"].tolist()\n",
    "fd = pd.DataFrame(s)\n",
    "del fd[\"Unnamed: 0\"]\n",
    "print(fd)"
   ]
  },
  {
   "cell_type": "code",
   "execution_count": 192,
   "metadata": {},
   "outputs": [
    {
     "name": "stdout",
     "output_type": "stream",
     "text": [
      "San Francisco, US ['Engineer']\n",
      "San Francisco, US ['Head/Lead']\n",
      "San Francisco, US ['Engineer']\n",
      "San Francisco, US ['Head/Lead']\n",
      "San Francisco, US ['Engineer']\n",
      "San Francisco, US ['Head/Lead']\n",
      "San Francisco, US ['Engineer']\n",
      "San Francisco, US ['Engineer']\n",
      "San Francisco, US ['Engineer']\n",
      "San Francisco, US ['Head/Lead']\n",
      "San Francisco, US ['Engineer', 'Manager']\n",
      "San Francisco, US ['Engineer']\n",
      "San Francisco, US ['Engineer']\n",
      "San Francisco, US ['Engineer']\n",
      "San Francisco, US ['Engineer']\n",
      "San Francisco, US ['Engineer']\n",
      "San Francisco, US ['Engineer']\n",
      "San Francisco, US ['Manager']\n",
      "San Francisco, US ['Engineer']\n",
      "San Francisco, US ['Engineer']\n",
      "San Francisco, US ['Manager']\n",
      "San Francisco, US ['Engineer']\n",
      "San Francisco, US ['Engineer']\n",
      "San Francisco, US ['Engineer']\n",
      "San Francisco, US ['Engineer']\n",
      "San Francisco, US ['Engineer']\n",
      "San Francisco, US ['Engineer']\n",
      "San Francisco, US ['Engineer']\n",
      "San Francisco, US ['Engineer']\n",
      "San Francisco, US ['Engineer']\n",
      "San Francisco, US ['Engineer']\n",
      "San Francisco, US ['Engineer']\n",
      "San Francisco, US ['Engineer']\n",
      "San Francisco, US ['Engineer']\n",
      "San Francisco, US ['Engineer']\n",
      "San Francisco, US ['Engineer']\n",
      "San Francisco, US ['Engineer']\n",
      "San Francisco, US ['Engineer']\n",
      "San Francisco, US ['Engineer']\n",
      "San Francisco, US ['Engineer']\n",
      "San Francisco, US ['Engineer']\n",
      "San Francisco, US ['Engineer']\n",
      "San Francisco, US ['Engineer']\n",
      "San Francisco, US ['Engineer']\n",
      "San Francisco, US ['Engineer']\n",
      "San Francisco, US ['Engineer']\n",
      "San Francisco, US ['Engineer']\n",
      "San Francisco, US ['Engineer', 'Director']\n",
      "San Francisco, US ['Engineer']\n",
      "San Francisco, US ['Engineer', 'Manager']\n",
      "San Francisco, US ['Engineer']\n",
      "San Francisco, US ['Engineer']\n",
      "San Francisco, US ['Engineer']\n",
      "San Francisco, US ['Engineer']\n",
      "San Francisco, US ['Engineer']\n",
      "San Francisco, US ['Engineer']\n",
      "San Francisco, US ['Engineer']\n",
      "San Francisco, US ['Engineer']\n",
      "San Francisco, US ['Engineer']\n",
      "San Francisco, US ['Engineer']\n",
      "San Francisco, US ['Engineer']\n",
      "San Francisco, US ['Engineer']\n",
      "San Francisco, US ['Engineer']\n",
      "San Francisco, US ['Manager']\n",
      "San Francisco, US ['Engineer']\n",
      "San Francisco, US ['Engineer']\n",
      "San Francisco, US ['Engineer']\n",
      "San Francisco, US ['Engineer']\n",
      "San Francisco, US ['Engineer']\n",
      "San Francisco, US ['Engineer']\n",
      "San Francisco, US ['Engineer']\n",
      "San Francisco, US ['Engineer', 'Director']\n",
      "San Francisco, US ['Engineer']\n",
      "San Francisco, US ['Manager']\n",
      "San Francisco, US ['Engineer']\n",
      "San Francisco, US ['Engineer']\n",
      "San Francisco, US ['Engineer', 'Director']\n",
      "San Francisco, US ['Engineer', 'Head/Lead']\n",
      "San Francisco, US ['Head/Lead']\n",
      "San Francisco, US ['Engineer']\n",
      "San Francisco, US ['Engineer']\n",
      "San Francisco, US ['Engineer']\n",
      "San Francisco, US ['Engineer']\n",
      "San Francisco, US ['Engineer']\n",
      "San Francisco, US ['Engineer']\n",
      "San Francisco, US ['Engineer']\n",
      "San Francisco, US ['Manager']\n",
      "San Francisco, US ['Manager']\n",
      "San Francisco, US ['Engineer']\n",
      "San Francisco, US ['Engineer']\n",
      "San Francisco, US ['Head/Lead']\n",
      "San Francisco, US ['Engineer']\n",
      "San Francisco, US ['Engineer']\n",
      "San Francisco, US ['Engineer']\n",
      "San Francisco, US ['Manager']\n",
      "San Francisco, US ['Engineer']\n",
      "San Francisco, US ['Engineer']\n",
      "San Francisco, US ['Engineer']\n",
      "San Francisco, US ['Engineer']\n",
      "San Francisco, US ['Engineer']\n",
      "San Francisco, US ['Engineer']\n",
      "San Francisco, US ['Engineer']\n",
      "San Francisco, US ['Engineer']\n",
      "San Francisco, US ['Manager']\n",
      "San Francisco, US ['Engineer']\n",
      "San Francisco, US ['Engineer']\n",
      "San Francisco, US ['Engineer']\n",
      "San Francisco, US ['Manager']\n",
      "San Francisco, US ['Engineer']\n",
      "San Francisco, US ['Engineer']\n",
      "San Francisco, US ['Engineer']\n",
      "San Francisco, US ['Manager']\n",
      "San Francisco, US ['Engineer']\n",
      "San Francisco, US ['Engineer']\n",
      "San Francisco, US ['Engineer']\n",
      "San Francisco, US ['Engineer']\n",
      "San Francisco, US ['Engineer', 'Director']\n",
      "San Francisco, US ['Engineer']\n",
      "San Francisco, US ['Engineer']\n",
      "San Francisco, US ['Engineer', 'Head/Lead']\n",
      "San Francisco, US ['Engineer', 'Manager']\n",
      "San Francisco, US ['Engineer']\n",
      "San Francisco, US ['Head/Lead']\n",
      "San Francisco, US ['Engineer']\n",
      "San Francisco, US ['Engineer']\n",
      "San Francisco, US ['Engineer']\n",
      "San Francisco, US ['Engineer']\n",
      "San Francisco, US ['Engineer']\n",
      "San Francisco, US ['Engineer']\n",
      "San Francisco, US ['Engineer', 'Head/Lead']\n",
      "San Francisco, US ['Engineer']\n",
      "San Francisco, US ['Engineer']\n",
      "San Francisco, US ['Head/Lead']\n",
      "San Francisco, US ['Engineer', 'Manager']\n",
      "San Francisco, US ['Engineer', 'Head/Lead']\n",
      "San Francisco, US ['Manager']\n",
      "San Francisco, US ['Engineer']\n",
      "San Francisco, US ['Engineer']\n",
      "San Francisco, US ['Engineer']\n",
      "San Francisco, US ['Engineer']\n",
      "San Francisco, US ['Engineer']\n",
      "San Francisco, US ['Engineer']\n",
      "San Francisco, US ['Engineer']\n",
      "San Francisco, US ['Engineer']\n",
      "San Francisco, US ['Engineer']\n",
      "San Francisco, US ['Engineer']\n",
      "San Francisco, US ['Engineer', 'Head/Lead']\n",
      "San Francisco, US ['Engineer']\n",
      "San Francisco, US ['Engineer']\n",
      "San Francisco, US ['Engineer']\n",
      "San Francisco, US ['Engineer']\n",
      "San Francisco, US ['Engineer']\n",
      "San Francisco, US ['Engineer']\n",
      "San Francisco, US ['Engineer']\n",
      "San Francisco, US ['Engineer']\n",
      "San Francisco, US ['Engineer']\n",
      "San Francisco, US ['Engineer']\n",
      "San Francisco, US ['Engineer']\n",
      "San Francisco, US ['Engineer']\n",
      "San Francisco, US ['Engineer']\n",
      "San Francisco, US ['Head/Lead']\n",
      "San Francisco, US ['Head/Lead']\n",
      "San Francisco, US ['Head/Lead']\n",
      "San Francisco, US ['Head/Lead']\n",
      "San Francisco, US ['Engineer']\n",
      "San Francisco, US ['Head/Lead']\n",
      "San Francisco, US ['Engineer']\n",
      "San Francisco, US ['Engineer']\n",
      "San Francisco, US ['Engineer']\n",
      "San Francisco, US ['Engineer']\n",
      "San Francisco, US ['Engineer']\n",
      "San Francisco, US ['Engineer']\n",
      "San Francisco, US ['Engineer']\n",
      "San Francisco, US ['Engineer']\n",
      "San Francisco, US ['Head/Lead']\n",
      "San Francisco, US ['Engineer']\n",
      "San Francisco, US ['Head/Lead']\n",
      "San Francisco, US ['Engineer']\n",
      "San Francisco, US ['Engineer', 'Head/Lead']\n",
      "San Francisco, US ['Engineer']\n",
      "San Francisco, US ['Engineer']\n",
      "San Francisco, US ['Engineer']\n",
      "San Francisco, US ['Engineer']\n",
      "San Francisco, US ['Head/Lead']\n",
      "San Francisco, US ['Engineer']\n",
      "San Francisco, US ['Engineer']\n",
      "San Francisco, US ['Engineer']\n",
      "San Francisco, US ['Engineer']\n",
      "San Francisco, US ['Engineer', 'Director']\n",
      "San Francisco, US ['Engineer']\n",
      "San Francisco, US ['Engineer']\n",
      "San Francisco, US ['Engineer']\n",
      "San Francisco, US ['Engineer']\n",
      "San Francisco, US ['Engineer']\n",
      "San Francisco, US ['Engineer']\n",
      "San Francisco, US ['Engineer']\n",
      "San Francisco, US ['Engineer']\n",
      "San Francisco, US ['Engineer']\n",
      "San Francisco, US ['Engineer']\n",
      "San Francisco, US ['Engineer']\n",
      "San Francisco, US ['Engineer']\n",
      "San Francisco, US ['Engineer']\n",
      "San Francisco, US ['Engineer']\n",
      "San Francisco, US ['Engineer']\n",
      "San Francisco, US ['Engineer']\n",
      "San Francisco, US ['Engineer']\n",
      "San Francisco, US ['Engineer']\n",
      "San Francisco, US ['Engineer']\n",
      "San Francisco, US ['Engineer']\n",
      "San Francisco, US ['Engineer']\n",
      "San Francisco, US ['Engineer']\n",
      "San Francisco, US ['Engineer']\n",
      "San Francisco, US ['Engineer']\n",
      "San Francisco, US ['Engineer']\n",
      "San Francisco, US ['Sales']\n",
      "San Francisco, US ['Engineer']\n",
      "San Francisco, US ['Engineer']\n",
      "San Francisco, US ['Engineer']\n",
      "San Francisco, US ['Manager']\n",
      "San Francisco, US ['Engineer']\n",
      "San Francisco, US ['Engineer']\n",
      "San Francisco, US ['Engineer']\n",
      "San Francisco, US ['Engineer']\n",
      "San Francisco, US ['Engineer']\n",
      "San Francisco, US ['Head/Lead']\n",
      "San Francisco, US ['Engineer']\n",
      "San Francisco, US ['Engineer']\n",
      "San Francisco, US ['Engineer']\n",
      "San Francisco, US ['Engineer']\n",
      "San Francisco, US ['Engineer']\n",
      "San Francisco, US ['Engineer']\n",
      "San Francisco, US ['Engineer']\n",
      "San Francisco, US ['Engineer']\n",
      "San Francisco, US ['Engineer']\n",
      "San Francisco, US ['Engineer']\n",
      "San Francisco, US ['Engineer']\n",
      "San Francisco, US ['Engineer']\n",
      "San Francisco, US ['Engineer']\n",
      "San Francisco, US ['Engineer']\n",
      "San Francisco, US ['Head/Lead']\n",
      "San Francisco, US ['Engineer']\n",
      "San Francisco, US ['Engineer']\n",
      "San Francisco, US ['Sales']\n",
      "San Francisco, US ['Engineer']\n",
      "San Francisco, US ['Engineer']\n",
      "San Francisco, US ['Engineer']\n",
      "San Francisco, US ['Engineer']\n",
      "San Francisco, US ['Engineer']\n",
      "San Francisco, US ['Engineer']\n",
      "San Francisco, US ['Engineer']\n",
      "San Francisco, US ['Engineer']\n",
      "San Francisco, US ['Engineer']\n",
      "San Francisco, US ['Engineer']\n",
      "San Francisco, US ['Engineer']\n",
      "San Francisco, US ['Manager']\n",
      "San Francisco, US ['Engineer']\n",
      "San Francisco, US ['Engineer']\n",
      "San Francisco, US ['Engineer']\n",
      "San Francisco, US ['Engineer']\n",
      "San Francisco, US ['Engineer', 'Manager']\n",
      "San Francisco, US ['Manager']\n",
      "San Francisco, US ['Engineer']\n",
      "San Francisco, US ['Head/Lead']\n",
      "San Francisco, US ['Engineer']\n",
      "San Francisco, US ['Engineer']\n",
      "San Francisco, US ['Engineer']\n",
      "San Francisco, US ['Engineer']\n",
      "San Francisco, US ['Head/Lead']\n",
      "San Francisco, US ['Engineer']\n",
      "San Francisco, US ['Engineer']\n",
      "San Francisco, US ['Engineer']\n",
      "San Francisco, US ['Head/Lead', 'Sales']\n",
      "San Francisco, US ['Engineer']\n",
      "San Francisco, US ['Engineer']\n",
      "San Francisco, US ['Engineer', 'Manager']\n",
      "San Francisco, US ['Engineer']\n",
      "San Francisco, US ['Engineer']\n",
      "San Francisco, US ['Engineer']\n",
      "San Francisco, US ['Engineer']\n",
      "San Francisco, US ['Engineer', 'Manager']\n",
      "San Francisco, US ['Engineer']\n",
      "San Francisco, US ['Engineer']\n",
      "San Francisco, US ['Engineer']\n",
      "San Francisco, US ['Engineer']\n",
      "San Francisco, US ['Manager']\n",
      "San Francisco, US ['Engineer']\n",
      "San Francisco, US ['Engineer']\n",
      "San Francisco, US ['Engineer']\n",
      "San Francisco, US ['Director']\n",
      "New York, US ['Director']\n",
      "New York, US ['Engineer']\n",
      "New York, US ['Manager']\n",
      "New York, US ['Manager']\n",
      "New York, US ['Manager']\n",
      "New York, US ['Director']\n",
      "New York, US ['Director']\n",
      "New York, US ['Manager']\n",
      "New York, US ['Engineer']\n",
      "New York, US ['Engineer', 'Manager']\n",
      "New York, US ['Engineer']\n",
      "New York, US ['Director']\n",
      "New York, US ['Engineer']\n",
      "New York, US ['Engineer']\n",
      "New York, US ['Sales']\n",
      "New York, US ['Manager']\n",
      "New York, US ['Engineer']\n",
      "New York, US ['Sales']\n",
      "New York, US ['Engineer']\n",
      "New York, US ['Engineer']\n",
      "New York, US ['Manager']\n",
      "New York, US ['Head/Lead']\n",
      "New York, US ['Engineer', 'Manager']\n",
      "New York, US ['Engineer']\n",
      "New York, US ['Engineer']\n",
      "New York, US ['Engineer']\n",
      "New York, US ['Engineer']\n",
      "New York, US ['Engineer']\n",
      "Scottsdale, US ['Sales']\n",
      "San Mateo, US ['Manager']\n",
      "San Mateo, US ['Engineer']\n",
      "San Mateo, US ['Engineer']\n",
      "San Mateo, US ['Engineer']\n",
      "San Mateo, US ['Engineer']\n",
      "San Mateo, US ['Engineer']\n",
      "Burlingame, US ['Head/Lead']\n",
      "Burlingame, US ['Head/Lead']\n",
      "Burlingame, US ['Engineer', 'Manager']\n",
      "Burlingame, US ['Engineer', 'Manager']\n",
      "Burlingame, US ['Engineer', 'Manager']\n",
      "Burlingame, US ['Engineer', 'Manager']\n",
      "Burlingame, US ['Engineer', 'Manager']\n",
      "Burlingame, US ['Engineer', 'Manager']\n",
      "Burlingame, US ['Engineer', 'Manager']\n",
      "Burlingame, US ['Engineer', 'Manager']\n",
      "Burlingame, US ['Engineer', 'Manager']\n",
      "Burlingame, US ['Engineer', 'Manager']\n",
      "Burlingame, US ['Engineer', 'Manager']\n",
      "Burlingame, US ['Engineer', 'Manager']\n",
      "Burlingame, US ['Manager']\n",
      "Burlingame, US ['Manager']\n",
      "Burlingame, US ['Manager']\n",
      "Burlingame, US ['Engineer', 'Head/Lead']\n",
      "Burlingame, US ['Engineer']\n",
      "Burlingame, US ['Head/Lead']\n",
      "Burlingame, US ['Head/Lead']\n",
      "Burlingame, US ['Head/Lead']\n",
      "Burlingame, US ['Head/Lead']\n",
      "Atlanta, US ['Head/Lead']\n",
      "New York City, US ['Engineer']\n",
      "New York City, US ['Engineer']\n",
      "New York City, US ['Manager']\n",
      "New York City, US ['Engineer']\n",
      "New York City, US ['Engineer']\n",
      "New York City, US ['Manager']\n",
      "New York City, US ['Sales']\n",
      "New York City, US ['Engineer']\n",
      "New York City, US ['Engineer']\n",
      "New York City, US ['Director']\n",
      "New York City, US ['Engineer']\n",
      "New York City, US ['Head/Lead']\n",
      "New York City, US ['Engineer']\n",
      "New York City, US ['Engineer']\n",
      "New York City, US ['Engineer']\n",
      "New York City, US ['Engineer']\n",
      "New York City, US ['Engineer']\n",
      "New York City, US ['Engineer']\n",
      "Sunnyvale, US ['Engineer']\n",
      "Sunnyvale, US ['Engineer']\n",
      "Sunnyvale, US ['Engineer', 'Manager']\n",
      "Sunnyvale, US ['Engineer']\n",
      "Oakland, US ['Engineer']\n",
      "Oakland, US ['Engineer']\n",
      "Oakland, US ['Engineer']\n",
      "Oakland, US ['Manager']\n",
      "Oakland, US ['Director']\n",
      "Oakland, US ['Engineer']\n",
      "Oakland, US ['Engineer']\n",
      "Oakland, US ['Engineer']\n",
      "Chattanooga, US ['Engineer']\n",
      "Chattanooga, US ['Engineer']\n",
      "Chattanooga, US ['Engineer']\n",
      "Chattanooga, US ['Engineer']\n",
      "Chattanooga, US ['Engineer']\n",
      "Chattanooga, US ['Engineer']\n",
      "Chattanooga, US ['Manager']\n",
      "Chattanooga, US ['Sales']\n",
      "Palo Alto, US ['Engineer']\n",
      "Palo Alto, US ['Engineer']\n",
      "Palo Alto, US ['Engineer']\n",
      "Palo Alto, US ['Engineer']\n",
      "Palo Alto, US ['Engineer']\n",
      "Palo Alto, US ['Engineer']\n",
      "Palo Alto, US ['Head/Lead']\n",
      "Palo Alto, US ['Head/Lead']\n",
      "Palo Alto, US ['Manager']\n",
      "Amsterdam, US ['Engineer']\n",
      "Amsterdam, US ['Manager']\n",
      "Amsterdam, US ['Engineer']\n",
      "Amsterdam, US ['Engineer']\n",
      "Los Angeles, US ['Head/Lead', 'Sales']\n",
      "Los Angeles, US ['Head/Lead', 'Sales']\n",
      "Los Angeles, US ['Director']\n",
      "Los Angeles, US ['Engineer']\n",
      "Los Angeles, US ['Manager']\n",
      "Los Angeles, US ['Manager']\n",
      "Los Angeles, US ['Engineer']\n",
      "Los Angeles, US ['Head/Lead']\n",
      "Los Angeles, US ['Engineer']\n",
      "Portland, US ['Engineer']\n",
      "Portland, US ['Engineer']\n",
      "Portland, US ['Engineer']\n",
      "Portland, US ['Engineer']\n",
      "Portland, US ['Engineer']\n",
      "Portland, US ['Engineer', 'Manager']\n",
      "Portland, US ['Engineer', 'Manager']\n",
      "Portland, US ['Engineer', 'Manager']\n",
      "Portland, US ['Manager']\n",
      "Portland, US ['Engineer']\n",
      "Portland, US ['Engineer']\n",
      "Portland, US ['Sales']\n",
      "Portland, US ['Engineer', 'Manager']\n",
      "Mountain View, US ['Engineer']\n",
      "Mountain View, US ['Head/Lead', 'Manager']\n",
      "Mountain View, US ['Engineer']\n",
      "Mountain View, US ['Head/Lead', 'Manager']\n",
      "Mountain View, US ['Engineer']\n",
      "Mountain View, US ['Engineer']\n",
      "Mountain View, US ['Engineer']\n",
      "Mountain View, US ['Engineer']\n",
      "Mountain View, US ['Engineer']\n",
      "Mountain View, US ['Engineer']\n",
      "Mountain View, US ['Manager']\n",
      "Washington, US ['Engineer']\n",
      "Washington, US ['Engineer']\n",
      "Washington, US ['Engineer']\n",
      "Washington, US ['Engineer']\n",
      "Washington, US ['Engineer']\n",
      "Washington, US ['Engineer']\n",
      "Washington, US ['Engineer']\n",
      "Washington, US ['Engineer']\n",
      "Washington, US ['Engineer']\n",
      "Washington, US ['Engineer']\n",
      "Washington, US ['Engineer']\n",
      "Washington, US ['Engineer']\n",
      "Washington, US ['Director']\n",
      "Washington, US ['Engineer', 'Manager']\n",
      "Washington, US ['Engineer']\n",
      "Washington, US ['Manager']\n",
      "Washington, US ['Engineer', 'Manager']\n",
      "Washington, US ['Engineer', 'Manager']\n",
      "Washington, US ['Engineer']\n",
      "San Leandro, US ['Engineer']\n",
      "San Leandro, US ['Manager']\n",
      "San Leandro, US ['Engineer']\n",
      "Costa Mesa, US ['Engineer']\n",
      "Austin, US ['Engineer']\n",
      "Austin, US ['Engineer']\n",
      "Denver, US ['Engineer']\n",
      "Denver, US ['Engineer']\n",
      "San Diego, US ['Head/Lead']\n",
      "San Diego, US ['Manager']\n",
      "San Diego, US ['Director']\n",
      "Brooklyn, US ['Engineer']\n",
      "Brooklyn, US ['Engineer']\n",
      "Seattle, US ['Engineer']\n",
      "Seattle, US ['Engineer']\n",
      "Roswell, US ['Engineer']\n",
      "Hayward, US ['Head/Lead']\n",
      "Ann Arbor, US ['Manager']\n",
      "Columbia, US ['Engineer', 'Manager']\n",
      "Columbia, US ['Manager']\n",
      "Columbia, US ['Engineer', 'Manager']\n",
      "Columbia, US ['Manager']\n",
      "Glendale, US ['Engineer']\n",
      "Chicago, US ['Manager']\n",
      "Chicago, US ['Engineer']\n",
      "Chicago, US ['Engineer']\n",
      "Chicago, US ['Sales']\n",
      "Berkeley, US ['Engineer']\n",
      "Berkeley, US ['Engineer']\n",
      "Berkeley, US ['Engineer']\n",
      "Berkeley, US ['Engineer']\n",
      "Berkeley, US ['Engineer']\n",
      "Indianapolis, US ['Engineer']\n",
      "Indianapolis, US ['Engineer']\n",
      "Indianapolis, US ['Engineer']\n",
      "Indianapolis, US ['Engineer']\n",
      "Vancouver, US ['Engineer']\n",
      "Missoula, US ['Engineer']\n",
      "Missoula, US ['Manager']\n",
      "Miami, US ['Head/Lead']\n",
      "Miami, US ['Manager']\n",
      "Ontario, US ['Engineer']\n",
      "San Carlos, US ['Engineer']\n",
      "Waterloo, US ['Engineer']\n",
      "Menlo Park, US ['Engineer']\n",
      "Union City, US ['Engineer']\n"
     ]
    }
   ],
   "source": [
    "uniqueCities = fd[\"city\"].unique()\n",
    "groupedCompanies = {}\n",
    "numEngineers = {}\n",
    "numLeads = {}\n",
    "numDirectors = {}\n",
    "numSales = {}\n",
    "numManagers = {}\n",
    "i = 1\n",
    "\n",
    "for city in uniqueCities:\n",
    "    rows = fd.loc[fd[\"city\"] == city]\n",
    "#     print(city, len(rows)) \n",
    "    groupedCompanies[i] = {\n",
    "        'city' : city,\n",
    "        'companies' : len(rows),\n",
    "        'lat' : rows[\"lat\"].values[0],\n",
    "        'long' : rows[\"long\"].values[0]\n",
    "    }\n",
    "    i += 1\n",
    "      \n",
    "for city in uniqueCities:\n",
    "    rows = fd.loc[fd[\"city\"] == city]\n",
    "    hiring = rows['hiring'].values\n",
    "    for hire in hiring:\n",
    "        print(city, hire)\n",
    "        if 'Engineer' in hire:\n",
    "            numEngineers.update({city:numEngineers.get(city, 0)+1})\n",
    "        if 'Head/Lead' in hire:\n",
    "            numLeads.update({city:numLeads.get(city, 0)+1})\n",
    "        if 'Director' in hire:\n",
    "            numDirectors.update({city:numDirectors.get(city, 0)+1})\n",
    "        if 'Sales' in hire:\n",
    "            numSales.update({city:numSales.get(city, 0)+1})\n",
    "        if 'Manager' in hire:\n",
    "            numManagers.update({city:numManagers.get(city, 0)+1})\n",
    "        \n",
    "gc_df = pd.DataFrame.from_dict(groupedCompanies, orient = 'index')\n",
    "\n",
    "size = []\n",
    "positions = []\n",
    "text = ''\n",
    "\n",
    "for city in gc_df['city']:\n",
    "    companies = gc_df.loc[gc_df['city']==city, 'companies'].values[0]\n",
    "    if companies > 45:\n",
    "        size.append(45)\n",
    "    else:\n",
    "        size.append(companies)\n",
    "    if(numEngineers.get(city, None)):\n",
    "        text += 'Engineering positions: ' + str(numEngineers.get(city)) + '<br>'\n",
    "    if(numLeads.get(city, None)):\n",
    "        text += 'Head/Lead positions: ' + str(numLeads.get(city)) + '<br>'\n",
    "    if(numDirectors.get(city, None)):\n",
    "        text += 'Director positions: ' + str(numDirectors.get(city)) + '<br>'\n",
    "    if(numSales.get(city, None)):\n",
    "        text += 'Sales positions: ' + str(numSales.get(city)) + '<br>'\n",
    "    if(numManagers.get(city, None)):\n",
    "        text += 'Manager positions: ' + str(numManagers.get(city)) + '<br>'\n",
    "    positions.append(text)\n",
    "    text = ''\n",
    "\n",
    "# print(positions)\n",
    "gc_df['positions'] = positions\n",
    "# print(gc_df)\n",
    "\n",
    "gc_df['size'] = size"
   ]
  },
  {
   "cell_type": "code",
   "execution_count": 193,
   "metadata": {},
   "outputs": [
    {
     "name": "stdout",
     "output_type": "stream",
     "text": [
      "{'Vancouver, US': 1, 'Columbia, US': 2, 'Burlingame, US': 14, 'Oakland, US': 6, 'Menlo Park, US': 1, 'Chattanooga, US': 6, 'Palo Alto, US': 6, 'Chicago, US': 2, 'Waterloo, US': 1, 'San Francisco, US': 250, 'Washington, US': 17, 'San Leandro, US': 2, 'Costa Mesa, US': 1, 'Indianapolis, US': 4, 'Amsterdam, US': 3, 'Roswell, US': 1, 'Los Angeles, US': 3, 'Sunnyvale, US': 4, 'Brooklyn, US': 2, 'Union City, US': 1, 'San Carlos, US': 1, 'Berkeley, US': 5, 'Ontario, US': 1, 'Denver, US': 2, 'Portland, US': 11, 'San Mateo, US': 5, 'Mountain View, US': 8, 'Glendale, US': 1, 'Austin, US': 2, 'New York, US': 15, 'Missoula, US': 1, 'New York City, US': 13, 'Seattle, US': 2}\n",
      "{'Columbia, US': 4, 'Burlingame, US': 15, 'San Francisco, US': 22, 'Chattanooga, US': 1, 'Palo Alto, US': 1, 'Missoula, US': 1, 'San Diego, US': 1, 'Oakland, US': 1, 'Chicago, US': 1, 'Washington, US': 4, 'Portland, US': 5, 'New York City, US': 2, 'San Leandro, US': 1, 'Mountain View, US': 3, 'Amsterdam, US': 1, 'Miami, US': 1, 'New York, US': 8, 'San Mateo, US': 1, 'Los Angeles, US': 2, 'Sunnyvale, US': 1, 'Ann Arbor, US': 1}\n",
      "{'Scottsdale, US': 1, 'Chattanooga, US': 1, 'Chicago, US': 1, 'New York, US': 2, 'San Francisco, US': 3, 'Los Angeles, US': 2, 'New York City, US': 1, 'Portland, US': 1}\n",
      "{'Washington, US': 1, 'San Francisco, US': 6, 'New York, US': 4, 'Oakland, US': 1, 'Los Angeles, US': 1, 'New York City, US': 1, 'San Diego, US': 1}\n",
      "{'Mountain View, US': 2, 'Burlingame, US': 7, 'Atlanta, US': 1, 'Palo Alto, US': 2, 'Miami, US': 1, 'New York, US': 1, 'San Francisco, US': 27, 'Los Angeles, US': 3, 'New York City, US': 1, 'San Diego, US': 1, 'Hayward, US': 1}\n"
     ]
    }
   ],
   "source": [
    "print(numEngineers)\n",
    "print(numManagers)\n",
    "print(numSales)\n",
    "print(numDirectors)\n",
    "print(numLeads)"
   ]
  },
  {
   "cell_type": "code",
   "execution_count": 194,
   "metadata": {},
   "outputs": [
    {
     "data": {
      "application/vnd.plotly.v1+json": {
       "config": {
        "plotlyServerURL": "https://plot.ly"
       },
       "data": [
        {
         "hovertext": [
          "San Francisco, US<br># of companies: 289<br>Engineering positions: 250<br>Head/Lead positions: 27<br>Director positions: 6<br>Sales positions: 3<br>Manager positions: 22<br>",
          "New York, US<br># of companies: 28<br>Engineering positions: 15<br>Head/Lead positions: 1<br>Director positions: 4<br>Sales positions: 2<br>Manager positions: 8<br>",
          "Scottsdale, US<br># of companies: 1<br>Sales positions: 1<br>",
          "San Mateo, US<br># of companies: 6<br>Engineering positions: 5<br>Manager positions: 1<br>",
          "Burlingame, US<br># of companies: 23<br>Engineering positions: 14<br>Head/Lead positions: 7<br>Manager positions: 15<br>",
          "Atlanta, US<br># of companies: 1<br>Head/Lead positions: 1<br>",
          "New York City, US<br># of companies: 18<br>Engineering positions: 13<br>Head/Lead positions: 1<br>Director positions: 1<br>Sales positions: 1<br>Manager positions: 2<br>",
          "Sunnyvale, US<br># of companies: 4<br>Engineering positions: 4<br>Manager positions: 1<br>",
          "Oakland, US<br># of companies: 8<br>Engineering positions: 6<br>Director positions: 1<br>Manager positions: 1<br>",
          "Chattanooga, US<br># of companies: 8<br>Engineering positions: 6<br>Sales positions: 1<br>Manager positions: 1<br>",
          "Palo Alto, US<br># of companies: 9<br>Engineering positions: 6<br>Head/Lead positions: 2<br>Manager positions: 1<br>",
          "Amsterdam, US<br># of companies: 4<br>Engineering positions: 3<br>Manager positions: 1<br>",
          "Los Angeles, US<br># of companies: 9<br>Engineering positions: 3<br>Head/Lead positions: 3<br>Director positions: 1<br>Sales positions: 2<br>Manager positions: 2<br>",
          "Portland, US<br># of companies: 13<br>Engineering positions: 11<br>Sales positions: 1<br>Manager positions: 5<br>",
          "Mountain View, US<br># of companies: 11<br>Engineering positions: 8<br>Head/Lead positions: 2<br>Manager positions: 3<br>",
          "Washington, US<br># of companies: 19<br>Engineering positions: 17<br>Director positions: 1<br>Manager positions: 4<br>",
          "San Leandro, US<br># of companies: 3<br>Engineering positions: 2<br>Manager positions: 1<br>",
          "Costa Mesa, US<br># of companies: 1<br>Engineering positions: 1<br>",
          "Austin, US<br># of companies: 2<br>Engineering positions: 2<br>",
          "Denver, US<br># of companies: 2<br>Engineering positions: 2<br>",
          "San Diego, US<br># of companies: 3<br>Head/Lead positions: 1<br>Director positions: 1<br>Manager positions: 1<br>",
          "Brooklyn, US<br># of companies: 2<br>Engineering positions: 2<br>",
          "Seattle, US<br># of companies: 2<br>Engineering positions: 2<br>",
          "Roswell, US<br># of companies: 1<br>Engineering positions: 1<br>",
          "Hayward, US<br># of companies: 1<br>Head/Lead positions: 1<br>",
          "Ann Arbor, US<br># of companies: 1<br>Manager positions: 1<br>",
          "Columbia, US<br># of companies: 4<br>Engineering positions: 2<br>Manager positions: 4<br>",
          "Glendale, US<br># of companies: 1<br>Engineering positions: 1<br>",
          "Chicago, US<br># of companies: 4<br>Engineering positions: 2<br>Sales positions: 1<br>Manager positions: 1<br>",
          "Berkeley, US<br># of companies: 5<br>Engineering positions: 5<br>",
          "Indianapolis, US<br># of companies: 4<br>Engineering positions: 4<br>",
          "Vancouver, US<br># of companies: 1<br>Engineering positions: 1<br>",
          "Missoula, US<br># of companies: 2<br>Engineering positions: 1<br>Manager positions: 1<br>",
          "Miami, US<br># of companies: 2<br>Head/Lead positions: 1<br>Manager positions: 1<br>",
          "Ontario, US<br># of companies: 1<br>Engineering positions: 1<br>",
          "San Carlos, US<br># of companies: 1<br>Engineering positions: 1<br>",
          "Waterloo, US<br># of companies: 1<br>Engineering positions: 1<br>",
          "Menlo Park, US<br># of companies: 1<br>Engineering positions: 1<br>",
          "Union City, US<br># of companies: 1<br>Engineering positions: 1<br>"
         ],
         "lat": [
          37.761208,
          40.73946,
          33.494909,
          37.547166,
          37.601234999999996,
          33.748546999999995,
          40.713054,
          37.408771,
          37.804828,
          35.054978999999996,
          37.445103,
          52.399507,
          34.052238,
          45.516018,
          37.39008,
          38.881085,
          37.728364,
          33.663857,
          30.264978999999997,
          39.738453,
          32.715759999999996,
          40.692529,
          47.603229,
          33.393142,
          37.453212,
          37.782022999999995,
          34.009285999999996,
          34.148138,
          41.883229,
          37.869058,
          39.768892,
          45.631060999999995,
          46.872129,
          25.775084,
          34.063340999999994,
          37.503733000000004,
          42.493469,
          40.564999,
          37.588887
         ],
         "locationmode": "USA-states",
         "lon": [
          -122.48468999999999,
          -73.982571,
          -111.926061,
          -122.314351,
          -122.372592,
          -84.391502,
          -74.007228,
          -122.014196,
          -122.27248,
          -85.31022,
          -122.16036299999999,
          4.98155,
          -118.243344,
          -122.681425,
          -122.08138999999998,
          -76.993462,
          -122.158612,
          -117.904765,
          -97.74659799999999,
          -104.984853,
          -117.163817,
          -73.990996,
          -122.33028,
          -104.522734,
          -122.152351,
          -122.39401299999999,
          -81.037094,
          -118.24643700000001,
          -87.632398,
          -122.270455,
          -86.159441,
          -122.671567,
          -113.994017,
          -80.194702,
          -117.65118700000001,
          -122.264927,
          -92.34364000000001,
          -74.337799,
          -122.027693
         ],
         "marker": {
          "autocolorscale": false,
          "line": {
           "color": "rgba(102, 102, 102)",
           "width": 1
          },
          "opacity": 0.8,
          "reversescale": true,
          "size": [
           55,
           38,
           11,
           16,
           33,
           11,
           28,
           14,
           18,
           18,
           19,
           14,
           19,
           23,
           21,
           29,
           13,
           11,
           12,
           12,
           13,
           12,
           12,
           11,
           11,
           11,
           14,
           11,
           14,
           15,
           14,
           11,
           12,
           12,
           11,
           11,
           11,
           11,
           11
          ],
          "symbol": "circle-dot"
         },
         "mode": "markers",
         "type": "scattergeo"
        }
       ],
       "layout": {
        "geo": {
         "countrycolor": "rgb(217, 217, 217)",
         "countrywidth": 0.5,
         "landcolor": "rgb(0, 125, 175)",
         "projection": {
          "type": "albers usa"
         },
         "scope": "usa",
         "showland": true,
         "subunitcolor": "rgb(217, 217, 217)",
         "subunitwidth": 0.5
        },
        "template": {
         "data": {
          "bar": [
           {
            "error_x": {
             "color": "#2a3f5f"
            },
            "error_y": {
             "color": "#2a3f5f"
            },
            "marker": {
             "line": {
              "color": "#E5ECF6",
              "width": 0.5
             }
            },
            "type": "bar"
           }
          ],
          "barpolar": [
           {
            "marker": {
             "line": {
              "color": "#E5ECF6",
              "width": 0.5
             }
            },
            "type": "barpolar"
           }
          ],
          "carpet": [
           {
            "aaxis": {
             "endlinecolor": "#2a3f5f",
             "gridcolor": "white",
             "linecolor": "white",
             "minorgridcolor": "white",
             "startlinecolor": "#2a3f5f"
            },
            "baxis": {
             "endlinecolor": "#2a3f5f",
             "gridcolor": "white",
             "linecolor": "white",
             "minorgridcolor": "white",
             "startlinecolor": "#2a3f5f"
            },
            "type": "carpet"
           }
          ],
          "choropleth": [
           {
            "colorbar": {
             "outlinewidth": 0,
             "ticks": ""
            },
            "type": "choropleth"
           }
          ],
          "contour": [
           {
            "colorbar": {
             "outlinewidth": 0,
             "ticks": ""
            },
            "colorscale": [
             [
              0,
              "#0d0887"
             ],
             [
              0.1111111111111111,
              "#46039f"
             ],
             [
              0.2222222222222222,
              "#7201a8"
             ],
             [
              0.3333333333333333,
              "#9c179e"
             ],
             [
              0.4444444444444444,
              "#bd3786"
             ],
             [
              0.5555555555555556,
              "#d8576b"
             ],
             [
              0.6666666666666666,
              "#ed7953"
             ],
             [
              0.7777777777777778,
              "#fb9f3a"
             ],
             [
              0.8888888888888888,
              "#fdca26"
             ],
             [
              1,
              "#f0f921"
             ]
            ],
            "type": "contour"
           }
          ],
          "contourcarpet": [
           {
            "colorbar": {
             "outlinewidth": 0,
             "ticks": ""
            },
            "type": "contourcarpet"
           }
          ],
          "heatmap": [
           {
            "colorbar": {
             "outlinewidth": 0,
             "ticks": ""
            },
            "colorscale": [
             [
              0,
              "#0d0887"
             ],
             [
              0.1111111111111111,
              "#46039f"
             ],
             [
              0.2222222222222222,
              "#7201a8"
             ],
             [
              0.3333333333333333,
              "#9c179e"
             ],
             [
              0.4444444444444444,
              "#bd3786"
             ],
             [
              0.5555555555555556,
              "#d8576b"
             ],
             [
              0.6666666666666666,
              "#ed7953"
             ],
             [
              0.7777777777777778,
              "#fb9f3a"
             ],
             [
              0.8888888888888888,
              "#fdca26"
             ],
             [
              1,
              "#f0f921"
             ]
            ],
            "type": "heatmap"
           }
          ],
          "heatmapgl": [
           {
            "colorbar": {
             "outlinewidth": 0,
             "ticks": ""
            },
            "colorscale": [
             [
              0,
              "#0d0887"
             ],
             [
              0.1111111111111111,
              "#46039f"
             ],
             [
              0.2222222222222222,
              "#7201a8"
             ],
             [
              0.3333333333333333,
              "#9c179e"
             ],
             [
              0.4444444444444444,
              "#bd3786"
             ],
             [
              0.5555555555555556,
              "#d8576b"
             ],
             [
              0.6666666666666666,
              "#ed7953"
             ],
             [
              0.7777777777777778,
              "#fb9f3a"
             ],
             [
              0.8888888888888888,
              "#fdca26"
             ],
             [
              1,
              "#f0f921"
             ]
            ],
            "type": "heatmapgl"
           }
          ],
          "histogram": [
           {
            "marker": {
             "colorbar": {
              "outlinewidth": 0,
              "ticks": ""
             }
            },
            "type": "histogram"
           }
          ],
          "histogram2d": [
           {
            "colorbar": {
             "outlinewidth": 0,
             "ticks": ""
            },
            "colorscale": [
             [
              0,
              "#0d0887"
             ],
             [
              0.1111111111111111,
              "#46039f"
             ],
             [
              0.2222222222222222,
              "#7201a8"
             ],
             [
              0.3333333333333333,
              "#9c179e"
             ],
             [
              0.4444444444444444,
              "#bd3786"
             ],
             [
              0.5555555555555556,
              "#d8576b"
             ],
             [
              0.6666666666666666,
              "#ed7953"
             ],
             [
              0.7777777777777778,
              "#fb9f3a"
             ],
             [
              0.8888888888888888,
              "#fdca26"
             ],
             [
              1,
              "#f0f921"
             ]
            ],
            "type": "histogram2d"
           }
          ],
          "histogram2dcontour": [
           {
            "colorbar": {
             "outlinewidth": 0,
             "ticks": ""
            },
            "colorscale": [
             [
              0,
              "#0d0887"
             ],
             [
              0.1111111111111111,
              "#46039f"
             ],
             [
              0.2222222222222222,
              "#7201a8"
             ],
             [
              0.3333333333333333,
              "#9c179e"
             ],
             [
              0.4444444444444444,
              "#bd3786"
             ],
             [
              0.5555555555555556,
              "#d8576b"
             ],
             [
              0.6666666666666666,
              "#ed7953"
             ],
             [
              0.7777777777777778,
              "#fb9f3a"
             ],
             [
              0.8888888888888888,
              "#fdca26"
             ],
             [
              1,
              "#f0f921"
             ]
            ],
            "type": "histogram2dcontour"
           }
          ],
          "mesh3d": [
           {
            "colorbar": {
             "outlinewidth": 0,
             "ticks": ""
            },
            "type": "mesh3d"
           }
          ],
          "parcoords": [
           {
            "line": {
             "colorbar": {
              "outlinewidth": 0,
              "ticks": ""
             }
            },
            "type": "parcoords"
           }
          ],
          "pie": [
           {
            "automargin": true,
            "type": "pie"
           }
          ],
          "scatter": [
           {
            "marker": {
             "colorbar": {
              "outlinewidth": 0,
              "ticks": ""
             }
            },
            "type": "scatter"
           }
          ],
          "scatter3d": [
           {
            "line": {
             "colorbar": {
              "outlinewidth": 0,
              "ticks": ""
             }
            },
            "marker": {
             "colorbar": {
              "outlinewidth": 0,
              "ticks": ""
             }
            },
            "type": "scatter3d"
           }
          ],
          "scattercarpet": [
           {
            "marker": {
             "colorbar": {
              "outlinewidth": 0,
              "ticks": ""
             }
            },
            "type": "scattercarpet"
           }
          ],
          "scattergeo": [
           {
            "marker": {
             "colorbar": {
              "outlinewidth": 0,
              "ticks": ""
             }
            },
            "type": "scattergeo"
           }
          ],
          "scattergl": [
           {
            "marker": {
             "colorbar": {
              "outlinewidth": 0,
              "ticks": ""
             }
            },
            "type": "scattergl"
           }
          ],
          "scattermapbox": [
           {
            "marker": {
             "colorbar": {
              "outlinewidth": 0,
              "ticks": ""
             }
            },
            "type": "scattermapbox"
           }
          ],
          "scatterpolar": [
           {
            "marker": {
             "colorbar": {
              "outlinewidth": 0,
              "ticks": ""
             }
            },
            "type": "scatterpolar"
           }
          ],
          "scatterpolargl": [
           {
            "marker": {
             "colorbar": {
              "outlinewidth": 0,
              "ticks": ""
             }
            },
            "type": "scatterpolargl"
           }
          ],
          "scatterternary": [
           {
            "marker": {
             "colorbar": {
              "outlinewidth": 0,
              "ticks": ""
             }
            },
            "type": "scatterternary"
           }
          ],
          "surface": [
           {
            "colorbar": {
             "outlinewidth": 0,
             "ticks": ""
            },
            "colorscale": [
             [
              0,
              "#0d0887"
             ],
             [
              0.1111111111111111,
              "#46039f"
             ],
             [
              0.2222222222222222,
              "#7201a8"
             ],
             [
              0.3333333333333333,
              "#9c179e"
             ],
             [
              0.4444444444444444,
              "#bd3786"
             ],
             [
              0.5555555555555556,
              "#d8576b"
             ],
             [
              0.6666666666666666,
              "#ed7953"
             ],
             [
              0.7777777777777778,
              "#fb9f3a"
             ],
             [
              0.8888888888888888,
              "#fdca26"
             ],
             [
              1,
              "#f0f921"
             ]
            ],
            "type": "surface"
           }
          ],
          "table": [
           {
            "cells": {
             "fill": {
              "color": "#EBF0F8"
             },
             "line": {
              "color": "white"
             }
            },
            "header": {
             "fill": {
              "color": "#C8D4E3"
             },
             "line": {
              "color": "white"
             }
            },
            "type": "table"
           }
          ]
         },
         "layout": {
          "annotationdefaults": {
           "arrowcolor": "#2a3f5f",
           "arrowhead": 0,
           "arrowwidth": 1
          },
          "coloraxis": {
           "colorbar": {
            "outlinewidth": 0,
            "ticks": ""
           }
          },
          "colorscale": {
           "diverging": [
            [
             0,
             "#8e0152"
            ],
            [
             0.1,
             "#c51b7d"
            ],
            [
             0.2,
             "#de77ae"
            ],
            [
             0.3,
             "#f1b6da"
            ],
            [
             0.4,
             "#fde0ef"
            ],
            [
             0.5,
             "#f7f7f7"
            ],
            [
             0.6,
             "#e6f5d0"
            ],
            [
             0.7,
             "#b8e186"
            ],
            [
             0.8,
             "#7fbc41"
            ],
            [
             0.9,
             "#4d9221"
            ],
            [
             1,
             "#276419"
            ]
           ],
           "sequential": [
            [
             0,
             "#0d0887"
            ],
            [
             0.1111111111111111,
             "#46039f"
            ],
            [
             0.2222222222222222,
             "#7201a8"
            ],
            [
             0.3333333333333333,
             "#9c179e"
            ],
            [
             0.4444444444444444,
             "#bd3786"
            ],
            [
             0.5555555555555556,
             "#d8576b"
            ],
            [
             0.6666666666666666,
             "#ed7953"
            ],
            [
             0.7777777777777778,
             "#fb9f3a"
            ],
            [
             0.8888888888888888,
             "#fdca26"
            ],
            [
             1,
             "#f0f921"
            ]
           ],
           "sequentialminus": [
            [
             0,
             "#0d0887"
            ],
            [
             0.1111111111111111,
             "#46039f"
            ],
            [
             0.2222222222222222,
             "#7201a8"
            ],
            [
             0.3333333333333333,
             "#9c179e"
            ],
            [
             0.4444444444444444,
             "#bd3786"
            ],
            [
             0.5555555555555556,
             "#d8576b"
            ],
            [
             0.6666666666666666,
             "#ed7953"
            ],
            [
             0.7777777777777778,
             "#fb9f3a"
            ],
            [
             0.8888888888888888,
             "#fdca26"
            ],
            [
             1,
             "#f0f921"
            ]
           ]
          },
          "colorway": [
           "#636efa",
           "#EF553B",
           "#00cc96",
           "#ab63fa",
           "#FFA15A",
           "#19d3f3",
           "#FF6692",
           "#B6E880",
           "#FF97FF",
           "#FECB52"
          ],
          "font": {
           "color": "#2a3f5f"
          },
          "geo": {
           "bgcolor": "white",
           "lakecolor": "white",
           "landcolor": "#E5ECF6",
           "showlakes": true,
           "showland": true,
           "subunitcolor": "white"
          },
          "hoverlabel": {
           "align": "left"
          },
          "hovermode": "closest",
          "mapbox": {
           "style": "light"
          },
          "paper_bgcolor": "white",
          "plot_bgcolor": "#E5ECF6",
          "polar": {
           "angularaxis": {
            "gridcolor": "white",
            "linecolor": "white",
            "ticks": ""
           },
           "bgcolor": "#E5ECF6",
           "radialaxis": {
            "gridcolor": "white",
            "linecolor": "white",
            "ticks": ""
           }
          },
          "scene": {
           "xaxis": {
            "backgroundcolor": "#E5ECF6",
            "gridcolor": "white",
            "gridwidth": 2,
            "linecolor": "white",
            "showbackground": true,
            "ticks": "",
            "zerolinecolor": "white"
           },
           "yaxis": {
            "backgroundcolor": "#E5ECF6",
            "gridcolor": "white",
            "gridwidth": 2,
            "linecolor": "white",
            "showbackground": true,
            "ticks": "",
            "zerolinecolor": "white"
           },
           "zaxis": {
            "backgroundcolor": "#E5ECF6",
            "gridcolor": "white",
            "gridwidth": 2,
            "linecolor": "white",
            "showbackground": true,
            "ticks": "",
            "zerolinecolor": "white"
           }
          },
          "shapedefaults": {
           "line": {
            "color": "#2a3f5f"
           }
          },
          "ternary": {
           "aaxis": {
            "gridcolor": "white",
            "linecolor": "white",
            "ticks": ""
           },
           "baxis": {
            "gridcolor": "white",
            "linecolor": "white",
            "ticks": ""
           },
           "bgcolor": "#E5ECF6",
           "caxis": {
            "gridcolor": "white",
            "linecolor": "white",
            "ticks": ""
           }
          },
          "title": {
           "x": 0.05
          },
          "xaxis": {
           "automargin": true,
           "gridcolor": "white",
           "linecolor": "white",
           "ticks": "",
           "title": {
            "standoff": 15
           },
           "zerolinecolor": "white",
           "zerolinewidth": 2
          },
          "yaxis": {
           "automargin": true,
           "gridcolor": "white",
           "linecolor": "white",
           "ticks": "",
           "title": {
            "standoff": 15
           },
           "zerolinecolor": "white",
           "zerolinewidth": 2
          }
         }
        },
        "title": {
         "text": "YC Company Jobs in USA Summarized by City"
        }
       }
      },
      "text/html": [
       "<div>\n",
       "        \n",
       "        \n",
       "            <div id=\"678fde2f-3154-4f5c-a839-c2ee29d23c5e\" class=\"plotly-graph-div\" style=\"height:525px; width:100%;\"></div>\n",
       "            <script type=\"text/javascript\">\n",
       "                require([\"plotly\"], function(Plotly) {\n",
       "                    window.PLOTLYENV=window.PLOTLYENV || {};\n",
       "                    \n",
       "                if (document.getElementById(\"678fde2f-3154-4f5c-a839-c2ee29d23c5e\")) {\n",
       "                    Plotly.newPlot(\n",
       "                        '678fde2f-3154-4f5c-a839-c2ee29d23c5e',\n",
       "                        [{\"hovertext\": [\"San Francisco, US<br># of companies: 289<br>Engineering positions: 250<br>Head/Lead positions: 27<br>Director positions: 6<br>Sales positions: 3<br>Manager positions: 22<br>\", \"New York, US<br># of companies: 28<br>Engineering positions: 15<br>Head/Lead positions: 1<br>Director positions: 4<br>Sales positions: 2<br>Manager positions: 8<br>\", \"Scottsdale, US<br># of companies: 1<br>Sales positions: 1<br>\", \"San Mateo, US<br># of companies: 6<br>Engineering positions: 5<br>Manager positions: 1<br>\", \"Burlingame, US<br># of companies: 23<br>Engineering positions: 14<br>Head/Lead positions: 7<br>Manager positions: 15<br>\", \"Atlanta, US<br># of companies: 1<br>Head/Lead positions: 1<br>\", \"New York City, US<br># of companies: 18<br>Engineering positions: 13<br>Head/Lead positions: 1<br>Director positions: 1<br>Sales positions: 1<br>Manager positions: 2<br>\", \"Sunnyvale, US<br># of companies: 4<br>Engineering positions: 4<br>Manager positions: 1<br>\", \"Oakland, US<br># of companies: 8<br>Engineering positions: 6<br>Director positions: 1<br>Manager positions: 1<br>\", \"Chattanooga, US<br># of companies: 8<br>Engineering positions: 6<br>Sales positions: 1<br>Manager positions: 1<br>\", \"Palo Alto, US<br># of companies: 9<br>Engineering positions: 6<br>Head/Lead positions: 2<br>Manager positions: 1<br>\", \"Amsterdam, US<br># of companies: 4<br>Engineering positions: 3<br>Manager positions: 1<br>\", \"Los Angeles, US<br># of companies: 9<br>Engineering positions: 3<br>Head/Lead positions: 3<br>Director positions: 1<br>Sales positions: 2<br>Manager positions: 2<br>\", \"Portland, US<br># of companies: 13<br>Engineering positions: 11<br>Sales positions: 1<br>Manager positions: 5<br>\", \"Mountain View, US<br># of companies: 11<br>Engineering positions: 8<br>Head/Lead positions: 2<br>Manager positions: 3<br>\", \"Washington, US<br># of companies: 19<br>Engineering positions: 17<br>Director positions: 1<br>Manager positions: 4<br>\", \"San Leandro, US<br># of companies: 3<br>Engineering positions: 2<br>Manager positions: 1<br>\", \"Costa Mesa, US<br># of companies: 1<br>Engineering positions: 1<br>\", \"Austin, US<br># of companies: 2<br>Engineering positions: 2<br>\", \"Denver, US<br># of companies: 2<br>Engineering positions: 2<br>\", \"San Diego, US<br># of companies: 3<br>Head/Lead positions: 1<br>Director positions: 1<br>Manager positions: 1<br>\", \"Brooklyn, US<br># of companies: 2<br>Engineering positions: 2<br>\", \"Seattle, US<br># of companies: 2<br>Engineering positions: 2<br>\", \"Roswell, US<br># of companies: 1<br>Engineering positions: 1<br>\", \"Hayward, US<br># of companies: 1<br>Head/Lead positions: 1<br>\", \"Ann Arbor, US<br># of companies: 1<br>Manager positions: 1<br>\", \"Columbia, US<br># of companies: 4<br>Engineering positions: 2<br>Manager positions: 4<br>\", \"Glendale, US<br># of companies: 1<br>Engineering positions: 1<br>\", \"Chicago, US<br># of companies: 4<br>Engineering positions: 2<br>Sales positions: 1<br>Manager positions: 1<br>\", \"Berkeley, US<br># of companies: 5<br>Engineering positions: 5<br>\", \"Indianapolis, US<br># of companies: 4<br>Engineering positions: 4<br>\", \"Vancouver, US<br># of companies: 1<br>Engineering positions: 1<br>\", \"Missoula, US<br># of companies: 2<br>Engineering positions: 1<br>Manager positions: 1<br>\", \"Miami, US<br># of companies: 2<br>Head/Lead positions: 1<br>Manager positions: 1<br>\", \"Ontario, US<br># of companies: 1<br>Engineering positions: 1<br>\", \"San Carlos, US<br># of companies: 1<br>Engineering positions: 1<br>\", \"Waterloo, US<br># of companies: 1<br>Engineering positions: 1<br>\", \"Menlo Park, US<br># of companies: 1<br>Engineering positions: 1<br>\", \"Union City, US<br># of companies: 1<br>Engineering positions: 1<br>\"], \"lat\": [37.761208, 40.73946, 33.494909, 37.547166, 37.601234999999996, 33.748546999999995, 40.713054, 37.408771, 37.804828, 35.054978999999996, 37.445103, 52.399507, 34.052238, 45.516018, 37.39008, 38.881085, 37.728364, 33.663857, 30.264978999999997, 39.738453, 32.715759999999996, 40.692529, 47.603229, 33.393142, 37.453212, 37.782022999999995, 34.009285999999996, 34.148138, 41.883229, 37.869058, 39.768892, 45.631060999999995, 46.872129, 25.775084, 34.063340999999994, 37.503733000000004, 42.493469, 40.564999, 37.588887], \"locationmode\": \"USA-states\", \"lon\": [-122.48468999999999, -73.982571, -111.926061, -122.314351, -122.372592, -84.391502, -74.007228, -122.014196, -122.27248, -85.31022, -122.16036299999999, 4.98155, -118.243344, -122.681425, -122.08138999999998, -76.993462, -122.158612, -117.904765, -97.74659799999999, -104.984853, -117.163817, -73.990996, -122.33028, -104.522734, -122.152351, -122.39401299999999, -81.037094, -118.24643700000001, -87.632398, -122.270455, -86.159441, -122.671567, -113.994017, -80.194702, -117.65118700000001, -122.264927, -92.34364000000001, -74.337799, -122.027693], \"marker\": {\"autocolorscale\": false, \"line\": {\"color\": \"rgba(102, 102, 102)\", \"width\": 1}, \"opacity\": 0.8, \"reversescale\": true, \"size\": [55, 38, 11, 16, 33, 11, 28, 14, 18, 18, 19, 14, 19, 23, 21, 29, 13, 11, 12, 12, 13, 12, 12, 11, 11, 11, 14, 11, 14, 15, 14, 11, 12, 12, 11, 11, 11, 11, 11], \"symbol\": \"circle-dot\"}, \"mode\": \"markers\", \"type\": \"scattergeo\"}],\n",
       "                        {\"geo\": {\"countrycolor\": \"rgb(217, 217, 217)\", \"countrywidth\": 0.5, \"landcolor\": \"rgb(0, 125, 175)\", \"projection\": {\"type\": \"albers usa\"}, \"scope\": \"usa\", \"showland\": true, \"subunitcolor\": \"rgb(217, 217, 217)\", \"subunitwidth\": 0.5}, \"template\": {\"data\": {\"bar\": [{\"error_x\": {\"color\": \"#2a3f5f\"}, \"error_y\": {\"color\": \"#2a3f5f\"}, \"marker\": {\"line\": {\"color\": \"#E5ECF6\", \"width\": 0.5}}, \"type\": \"bar\"}], \"barpolar\": [{\"marker\": {\"line\": {\"color\": \"#E5ECF6\", \"width\": 0.5}}, \"type\": \"barpolar\"}], \"carpet\": [{\"aaxis\": {\"endlinecolor\": \"#2a3f5f\", \"gridcolor\": \"white\", \"linecolor\": \"white\", \"minorgridcolor\": \"white\", \"startlinecolor\": \"#2a3f5f\"}, \"baxis\": {\"endlinecolor\": \"#2a3f5f\", \"gridcolor\": \"white\", \"linecolor\": \"white\", \"minorgridcolor\": \"white\", \"startlinecolor\": \"#2a3f5f\"}, \"type\": \"carpet\"}], \"choropleth\": [{\"colorbar\": {\"outlinewidth\": 0, \"ticks\": \"\"}, \"type\": \"choropleth\"}], \"contour\": [{\"colorbar\": {\"outlinewidth\": 0, \"ticks\": \"\"}, \"colorscale\": [[0.0, \"#0d0887\"], [0.1111111111111111, \"#46039f\"], [0.2222222222222222, \"#7201a8\"], [0.3333333333333333, \"#9c179e\"], [0.4444444444444444, \"#bd3786\"], [0.5555555555555556, \"#d8576b\"], [0.6666666666666666, \"#ed7953\"], [0.7777777777777778, \"#fb9f3a\"], [0.8888888888888888, \"#fdca26\"], [1.0, \"#f0f921\"]], \"type\": \"contour\"}], \"contourcarpet\": [{\"colorbar\": {\"outlinewidth\": 0, \"ticks\": \"\"}, \"type\": \"contourcarpet\"}], \"heatmap\": [{\"colorbar\": {\"outlinewidth\": 0, \"ticks\": \"\"}, \"colorscale\": [[0.0, \"#0d0887\"], [0.1111111111111111, \"#46039f\"], [0.2222222222222222, \"#7201a8\"], [0.3333333333333333, \"#9c179e\"], [0.4444444444444444, \"#bd3786\"], [0.5555555555555556, \"#d8576b\"], [0.6666666666666666, \"#ed7953\"], [0.7777777777777778, \"#fb9f3a\"], [0.8888888888888888, \"#fdca26\"], [1.0, \"#f0f921\"]], \"type\": \"heatmap\"}], \"heatmapgl\": [{\"colorbar\": {\"outlinewidth\": 0, \"ticks\": \"\"}, \"colorscale\": [[0.0, \"#0d0887\"], [0.1111111111111111, \"#46039f\"], [0.2222222222222222, \"#7201a8\"], [0.3333333333333333, \"#9c179e\"], [0.4444444444444444, \"#bd3786\"], [0.5555555555555556, \"#d8576b\"], [0.6666666666666666, \"#ed7953\"], [0.7777777777777778, \"#fb9f3a\"], [0.8888888888888888, \"#fdca26\"], [1.0, \"#f0f921\"]], \"type\": \"heatmapgl\"}], \"histogram\": [{\"marker\": {\"colorbar\": {\"outlinewidth\": 0, \"ticks\": \"\"}}, \"type\": \"histogram\"}], \"histogram2d\": [{\"colorbar\": {\"outlinewidth\": 0, \"ticks\": \"\"}, \"colorscale\": [[0.0, \"#0d0887\"], [0.1111111111111111, \"#46039f\"], [0.2222222222222222, \"#7201a8\"], [0.3333333333333333, \"#9c179e\"], [0.4444444444444444, \"#bd3786\"], [0.5555555555555556, \"#d8576b\"], [0.6666666666666666, \"#ed7953\"], [0.7777777777777778, \"#fb9f3a\"], [0.8888888888888888, \"#fdca26\"], [1.0, \"#f0f921\"]], \"type\": \"histogram2d\"}], \"histogram2dcontour\": [{\"colorbar\": {\"outlinewidth\": 0, \"ticks\": \"\"}, \"colorscale\": [[0.0, \"#0d0887\"], [0.1111111111111111, \"#46039f\"], [0.2222222222222222, \"#7201a8\"], [0.3333333333333333, \"#9c179e\"], [0.4444444444444444, \"#bd3786\"], [0.5555555555555556, \"#d8576b\"], [0.6666666666666666, \"#ed7953\"], [0.7777777777777778, \"#fb9f3a\"], [0.8888888888888888, \"#fdca26\"], [1.0, \"#f0f921\"]], \"type\": \"histogram2dcontour\"}], \"mesh3d\": [{\"colorbar\": {\"outlinewidth\": 0, \"ticks\": \"\"}, \"type\": \"mesh3d\"}], \"parcoords\": [{\"line\": {\"colorbar\": {\"outlinewidth\": 0, \"ticks\": \"\"}}, \"type\": \"parcoords\"}], \"pie\": [{\"automargin\": true, \"type\": \"pie\"}], \"scatter\": [{\"marker\": {\"colorbar\": {\"outlinewidth\": 0, \"ticks\": \"\"}}, \"type\": \"scatter\"}], \"scatter3d\": [{\"line\": {\"colorbar\": {\"outlinewidth\": 0, \"ticks\": \"\"}}, \"marker\": {\"colorbar\": {\"outlinewidth\": 0, \"ticks\": \"\"}}, \"type\": \"scatter3d\"}], \"scattercarpet\": [{\"marker\": {\"colorbar\": {\"outlinewidth\": 0, \"ticks\": \"\"}}, \"type\": \"scattercarpet\"}], \"scattergeo\": [{\"marker\": {\"colorbar\": {\"outlinewidth\": 0, \"ticks\": \"\"}}, \"type\": \"scattergeo\"}], \"scattergl\": [{\"marker\": {\"colorbar\": {\"outlinewidth\": 0, \"ticks\": \"\"}}, \"type\": \"scattergl\"}], \"scattermapbox\": [{\"marker\": {\"colorbar\": {\"outlinewidth\": 0, \"ticks\": \"\"}}, \"type\": \"scattermapbox\"}], \"scatterpolar\": [{\"marker\": {\"colorbar\": {\"outlinewidth\": 0, \"ticks\": \"\"}}, \"type\": \"scatterpolar\"}], \"scatterpolargl\": [{\"marker\": {\"colorbar\": {\"outlinewidth\": 0, \"ticks\": \"\"}}, \"type\": \"scatterpolargl\"}], \"scatterternary\": [{\"marker\": {\"colorbar\": {\"outlinewidth\": 0, \"ticks\": \"\"}}, \"type\": \"scatterternary\"}], \"surface\": [{\"colorbar\": {\"outlinewidth\": 0, \"ticks\": \"\"}, \"colorscale\": [[0.0, \"#0d0887\"], [0.1111111111111111, \"#46039f\"], [0.2222222222222222, \"#7201a8\"], [0.3333333333333333, \"#9c179e\"], [0.4444444444444444, \"#bd3786\"], [0.5555555555555556, \"#d8576b\"], [0.6666666666666666, \"#ed7953\"], [0.7777777777777778, \"#fb9f3a\"], [0.8888888888888888, \"#fdca26\"], [1.0, \"#f0f921\"]], \"type\": \"surface\"}], \"table\": [{\"cells\": {\"fill\": {\"color\": \"#EBF0F8\"}, \"line\": {\"color\": \"white\"}}, \"header\": {\"fill\": {\"color\": \"#C8D4E3\"}, \"line\": {\"color\": \"white\"}}, \"type\": \"table\"}]}, \"layout\": {\"annotationdefaults\": {\"arrowcolor\": \"#2a3f5f\", \"arrowhead\": 0, \"arrowwidth\": 1}, \"coloraxis\": {\"colorbar\": {\"outlinewidth\": 0, \"ticks\": \"\"}}, \"colorscale\": {\"diverging\": [[0, \"#8e0152\"], [0.1, \"#c51b7d\"], [0.2, \"#de77ae\"], [0.3, \"#f1b6da\"], [0.4, \"#fde0ef\"], [0.5, \"#f7f7f7\"], [0.6, \"#e6f5d0\"], [0.7, \"#b8e186\"], [0.8, \"#7fbc41\"], [0.9, \"#4d9221\"], [1, \"#276419\"]], \"sequential\": [[0.0, \"#0d0887\"], [0.1111111111111111, \"#46039f\"], [0.2222222222222222, \"#7201a8\"], [0.3333333333333333, \"#9c179e\"], [0.4444444444444444, \"#bd3786\"], [0.5555555555555556, \"#d8576b\"], [0.6666666666666666, \"#ed7953\"], [0.7777777777777778, \"#fb9f3a\"], [0.8888888888888888, \"#fdca26\"], [1.0, \"#f0f921\"]], \"sequentialminus\": [[0.0, \"#0d0887\"], [0.1111111111111111, \"#46039f\"], [0.2222222222222222, \"#7201a8\"], [0.3333333333333333, \"#9c179e\"], [0.4444444444444444, \"#bd3786\"], [0.5555555555555556, \"#d8576b\"], [0.6666666666666666, \"#ed7953\"], [0.7777777777777778, \"#fb9f3a\"], [0.8888888888888888, \"#fdca26\"], [1.0, \"#f0f921\"]]}, \"colorway\": [\"#636efa\", \"#EF553B\", \"#00cc96\", \"#ab63fa\", \"#FFA15A\", \"#19d3f3\", \"#FF6692\", \"#B6E880\", \"#FF97FF\", \"#FECB52\"], \"font\": {\"color\": \"#2a3f5f\"}, \"geo\": {\"bgcolor\": \"white\", \"lakecolor\": \"white\", \"landcolor\": \"#E5ECF6\", \"showlakes\": true, \"showland\": true, \"subunitcolor\": \"white\"}, \"hoverlabel\": {\"align\": \"left\"}, \"hovermode\": \"closest\", \"mapbox\": {\"style\": \"light\"}, \"paper_bgcolor\": \"white\", \"plot_bgcolor\": \"#E5ECF6\", \"polar\": {\"angularaxis\": {\"gridcolor\": \"white\", \"linecolor\": \"white\", \"ticks\": \"\"}, \"bgcolor\": \"#E5ECF6\", \"radialaxis\": {\"gridcolor\": \"white\", \"linecolor\": \"white\", \"ticks\": \"\"}}, \"scene\": {\"xaxis\": {\"backgroundcolor\": \"#E5ECF6\", \"gridcolor\": \"white\", \"gridwidth\": 2, \"linecolor\": \"white\", \"showbackground\": true, \"ticks\": \"\", \"zerolinecolor\": \"white\"}, \"yaxis\": {\"backgroundcolor\": \"#E5ECF6\", \"gridcolor\": \"white\", \"gridwidth\": 2, \"linecolor\": \"white\", \"showbackground\": true, \"ticks\": \"\", \"zerolinecolor\": \"white\"}, \"zaxis\": {\"backgroundcolor\": \"#E5ECF6\", \"gridcolor\": \"white\", \"gridwidth\": 2, \"linecolor\": \"white\", \"showbackground\": true, \"ticks\": \"\", \"zerolinecolor\": \"white\"}}, \"shapedefaults\": {\"line\": {\"color\": \"#2a3f5f\"}}, \"ternary\": {\"aaxis\": {\"gridcolor\": \"white\", \"linecolor\": \"white\", \"ticks\": \"\"}, \"baxis\": {\"gridcolor\": \"white\", \"linecolor\": \"white\", \"ticks\": \"\"}, \"bgcolor\": \"#E5ECF6\", \"caxis\": {\"gridcolor\": \"white\", \"linecolor\": \"white\", \"ticks\": \"\"}}, \"title\": {\"x\": 0.05}, \"xaxis\": {\"automargin\": true, \"gridcolor\": \"white\", \"linecolor\": \"white\", \"ticks\": \"\", \"title\": {\"standoff\": 15}, \"zerolinecolor\": \"white\", \"zerolinewidth\": 2}, \"yaxis\": {\"automargin\": true, \"gridcolor\": \"white\", \"linecolor\": \"white\", \"ticks\": \"\", \"title\": {\"standoff\": 15}, \"zerolinecolor\": \"white\", \"zerolinewidth\": 2}}}, \"title\": {\"text\": \"YC Company Jobs in USA Summarized by City\"}},\n",
       "                        {\"responsive\": true}\n",
       "                    ).then(function(){\n",
       "                            \n",
       "var gd = document.getElementById('678fde2f-3154-4f5c-a839-c2ee29d23c5e');\n",
       "var x = new MutationObserver(function (mutations, observer) {{\n",
       "        var display = window.getComputedStyle(gd).display;\n",
       "        if (!display || display === 'none') {{\n",
       "            console.log([gd, 'removed!']);\n",
       "            Plotly.purge(gd);\n",
       "            observer.disconnect();\n",
       "        }}\n",
       "}});\n",
       "\n",
       "// Listen for the removal of the full notebook cells\n",
       "var notebookContainer = gd.closest('#notebook-container');\n",
       "if (notebookContainer) {{\n",
       "    x.observe(notebookContainer, {childList: true});\n",
       "}}\n",
       "\n",
       "// Listen for the clearing of the current output cell\n",
       "var outputEl = gd.closest('.output');\n",
       "if (outputEl) {{\n",
       "    x.observe(outputEl, {childList: true});\n",
       "}}\n",
       "\n",
       "                        })\n",
       "                };\n",
       "                });\n",
       "            </script>\n",
       "        </div>"
      ]
     },
     "metadata": {},
     "output_type": "display_data"
    }
   ],
   "source": [
    "gc_df['text'] = gc_df['city'] + '<br>' + '# of companies: ' + gc_df['companies'].astype(str) + '<br>' + gc_df['positions']\n",
    "\n",
    "fig = go.Figure(data=go.Scattergeo(\n",
    "        locationmode = 'USA-states',\n",
    "        lon = gc_df['long'],\n",
    "        lat = gc_df['lat'],\n",
    "#         text = gc_df['text'],\n",
    "        hovertext = gc_df['text'],\n",
    "        mode = 'markers',\n",
    "        marker = dict(\n",
    "            size = gc_df['size']+10,\n",
    "            opacity = 0.8,\n",
    "            reversescale = True,\n",
    "            autocolorscale = False,\n",
    "            symbol = 'circle-dot',\n",
    "            line = dict(\n",
    "                width=1,\n",
    "                color='rgba(102, 102, 102)'\n",
    "            ),\n",
    "        )))\n",
    "\n",
    "fig.update_layout(\n",
    "        title = 'YC Company Jobs in USA Summarized by City',\n",
    "        geo = dict(\n",
    "            scope='usa',\n",
    "            projection_type='albers usa',\n",
    "            showland = True,\n",
    "            landcolor = \"rgb(0, 125, 175)\",\n",
    "            subunitcolor = \"rgb(217, 217, 217)\",\n",
    "            countrycolor = \"rgb(217, 217, 217)\",\n",
    "            countrywidth = 0.5,\n",
    "            subunitwidth = 0.5\n",
    "        ),\n",
    "    )\n",
    "fig.show()"
   ]
  },
  {
   "cell_type": "code",
   "execution_count": null,
   "metadata": {},
   "outputs": [],
   "source": []
  },
  {
   "cell_type": "code",
   "execution_count": null,
   "metadata": {},
   "outputs": [],
   "source": []
  }
 ],
 "metadata": {
  "kernelspec": {
   "display_name": "Python 3",
   "language": "python",
   "name": "python3"
  },
  "language_info": {
   "codemirror_mode": {
    "name": "ipython",
    "version": 3
   },
   "file_extension": ".py",
   "mimetype": "text/x-python",
   "name": "python",
   "nbconvert_exporter": "python",
   "pygments_lexer": "ipython3",
   "version": "3.5.2"
  }
 },
 "nbformat": 4,
 "nbformat_minor": 2
}
