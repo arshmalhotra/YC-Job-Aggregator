{
 "cells": [
  {
   "cell_type": "code",
   "execution_count": 4,
   "metadata": {},
   "outputs": [],
   "source": [
    "# import plotly.graph_objects as go\n",
    "import plotly.express as px\n",
    "import pandas as pd\n",
    "import random\n",
    "import numpy as np"
   ]
  },
  {
   "cell_type": "code",
   "execution_count": 5,
   "metadata": {},
   "outputs": [
    {
     "data": {
      "text/html": [
       "<div>\n",
       "<style scoped>\n",
       "    .dataframe tbody tr th:only-of-type {\n",
       "        vertical-align: middle;\n",
       "    }\n",
       "\n",
       "    .dataframe tbody tr th {\n",
       "        vertical-align: top;\n",
       "    }\n",
       "\n",
       "    .dataframe thead th {\n",
       "        text-align: right;\n",
       "    }\n",
       "</style>\n",
       "<table border=\"1\" class=\"dataframe\">\n",
       "  <thead>\n",
       "    <tr style=\"text-align: right;\">\n",
       "      <th></th>\n",
       "      <th>post_title</th>\n",
       "      <th>company</th>\n",
       "      <th>date_posted</th>\n",
       "      <th>hiring</th>\n",
       "      <th>location</th>\n",
       "      <th>city</th>\n",
       "      <th>funding</th>\n",
       "      <th>lat</th>\n",
       "      <th>long</th>\n",
       "    </tr>\n",
       "  </thead>\n",
       "  <tbody>\n",
       "    <tr>\n",
       "      <td>0</td>\n",
       "      <td>Able Health (YC W16) is hiring a senior engine...</td>\n",
       "      <td>Able Health</td>\n",
       "      <td>1 day ago</td>\n",
       "      <td>['Engineer']</td>\n",
       "      <td>PO Box 225310  San Francisco California, 94122</td>\n",
       "      <td>San Francisco, US</td>\n",
       "      <td>$0.0m</td>\n",
       "      <td>37.761208</td>\n",
       "      <td>-122.484690</td>\n",
       "    </tr>\n",
       "    <tr>\n",
       "      <td>1</td>\n",
       "      <td>The Muse (YC W12) Is Hiring a Director of SEO</td>\n",
       "      <td>The Muse</td>\n",
       "      <td>1 day ago</td>\n",
       "      <td>['Director']</td>\n",
       "      <td>New York New York, 10010 United States</td>\n",
       "      <td>New York, US</td>\n",
       "      <td>$31.7m</td>\n",
       "      <td>40.739460</td>\n",
       "      <td>-73.982571</td>\n",
       "    </tr>\n",
       "    <tr>\n",
       "      <td>2</td>\n",
       "      <td>Iris Automation (YC S16) Is Hiring a Head of P...</td>\n",
       "      <td>Iris Automation</td>\n",
       "      <td>2 days ago</td>\n",
       "      <td>['Head/Lead']</td>\n",
       "      <td>110 Sutter St Ste 300  San Francisco Californi...</td>\n",
       "      <td>San Francisco, US</td>\n",
       "      <td>$10.0m</td>\n",
       "      <td>37.790225</td>\n",
       "      <td>-122.402697</td>\n",
       "    </tr>\n",
       "    <tr>\n",
       "      <td>3</td>\n",
       "      <td>BuildZoom (YC W13), a better way to remodel, i...</td>\n",
       "      <td>BuildZoom</td>\n",
       "      <td>4 days ago</td>\n",
       "      <td>['Sales']</td>\n",
       "      <td>Scottsdale, US</td>\n",
       "      <td>Scottsdale, US</td>\n",
       "      <td>$14.7m</td>\n",
       "      <td>33.494909</td>\n",
       "      <td>-111.926061</td>\n",
       "    </tr>\n",
       "    <tr>\n",
       "      <td>4</td>\n",
       "      <td>Substack (YC W18) Is Hiring Senior Full-Stack ...</td>\n",
       "      <td>Substack</td>\n",
       "      <td>5 days ago</td>\n",
       "      <td>['Engineer']</td>\n",
       "      <td>San Francisco, US</td>\n",
       "      <td>San Francisco, US</td>\n",
       "      <td>$2.1m</td>\n",
       "      <td>37.780080</td>\n",
       "      <td>-122.420168</td>\n",
       "    </tr>\n",
       "    <tr>\n",
       "      <td>5</td>\n",
       "      <td>Smarking (YC W15) is hiring a senior back-end ...</td>\n",
       "      <td>Smarking</td>\n",
       "      <td>6 days ago</td>\n",
       "      <td>['Head/Lead']</td>\n",
       "      <td>San Francisco, US</td>\n",
       "      <td>San Francisco, US</td>\n",
       "      <td>$3.0m</td>\n",
       "      <td>37.780080</td>\n",
       "      <td>-122.420168</td>\n",
       "    </tr>\n",
       "    <tr>\n",
       "      <td>6</td>\n",
       "      <td>Segment (YC S11) is hiring engineers to join o...</td>\n",
       "      <td>Segment</td>\n",
       "      <td>6 days ago</td>\n",
       "      <td>['Engineer']</td>\n",
       "      <td>100 California St Ste 700  San Francisco Calif...</td>\n",
       "      <td>San Francisco, US</td>\n",
       "      <td>$283.7m</td>\n",
       "      <td>37.793949</td>\n",
       "      <td>-122.398062</td>\n",
       "    </tr>\n",
       "    <tr>\n",
       "      <td>7</td>\n",
       "      <td>NuCypher (YC S16) is hiring a lead engineer to...</td>\n",
       "      <td>NuCypher</td>\n",
       "      <td>7 days ago</td>\n",
       "      <td>['Head/Lead']</td>\n",
       "      <td>San Francisco, US</td>\n",
       "      <td>San Francisco, US</td>\n",
       "      <td>$5.2m</td>\n",
       "      <td>37.780080</td>\n",
       "      <td>-122.420168</td>\n",
       "    </tr>\n",
       "    <tr>\n",
       "      <td>8</td>\n",
       "      <td>Impraise (YC S14) is hiring Ruby and elixir ba...</td>\n",
       "      <td>Impraise</td>\n",
       "      <td>8 days ago</td>\n",
       "      <td>['Engineer']</td>\n",
       "      <td>424 Broadway Unit 602 New York New York, 10013...</td>\n",
       "      <td>New York, US</td>\n",
       "      <td>$12.3m</td>\n",
       "      <td>40.719571</td>\n",
       "      <td>-74.001355</td>\n",
       "    </tr>\n",
       "    <tr>\n",
       "      <td>9</td>\n",
       "      <td>CoinTracker (YC W18) Is Hiring Senior Software...</td>\n",
       "      <td>CoinTracker</td>\n",
       "      <td>12 days ago</td>\n",
       "      <td>['Engineer']</td>\n",
       "      <td>San Francisco, US</td>\n",
       "      <td>San Francisco, US</td>\n",
       "      <td>$1.6m</td>\n",
       "      <td>37.780080</td>\n",
       "      <td>-122.420168</td>\n",
       "    </tr>\n",
       "    <tr>\n",
       "      <td>10</td>\n",
       "      <td>OneSignal (YC S11) is hiring a PM to build the...</td>\n",
       "      <td>OneSignal</td>\n",
       "      <td>15 days ago</td>\n",
       "      <td>['Manager']</td>\n",
       "      <td>San Mateo California,  United States</td>\n",
       "      <td>San Mateo, US</td>\n",
       "      <td>$11.0m</td>\n",
       "      <td>37.547166</td>\n",
       "      <td>-122.314351</td>\n",
       "    </tr>\n",
       "  </tbody>\n",
       "</table>\n",
       "</div>"
      ],
      "text/plain": [
       "                                           post_title          company  \\\n",
       "0   Able Health (YC W16) is hiring a senior engine...      Able Health   \n",
       "1       The Muse (YC W12) Is Hiring a Director of SEO         The Muse   \n",
       "2   Iris Automation (YC S16) Is Hiring a Head of P...  Iris Automation   \n",
       "3   BuildZoom (YC W13), a better way to remodel, i...        BuildZoom   \n",
       "4   Substack (YC W18) Is Hiring Senior Full-Stack ...         Substack   \n",
       "5   Smarking (YC W15) is hiring a senior back-end ...         Smarking   \n",
       "6   Segment (YC S11) is hiring engineers to join o...          Segment   \n",
       "7   NuCypher (YC S16) is hiring a lead engineer to...         NuCypher   \n",
       "8   Impraise (YC S14) is hiring Ruby and elixir ba...         Impraise   \n",
       "9   CoinTracker (YC W18) Is Hiring Senior Software...      CoinTracker   \n",
       "10  OneSignal (YC S11) is hiring a PM to build the...        OneSignal   \n",
       "\n",
       "    date_posted         hiring  \\\n",
       "0     1 day ago   ['Engineer']   \n",
       "1     1 day ago   ['Director']   \n",
       "2    2 days ago  ['Head/Lead']   \n",
       "3    4 days ago      ['Sales']   \n",
       "4    5 days ago   ['Engineer']   \n",
       "5    6 days ago  ['Head/Lead']   \n",
       "6    6 days ago   ['Engineer']   \n",
       "7    7 days ago  ['Head/Lead']   \n",
       "8    8 days ago   ['Engineer']   \n",
       "9   12 days ago   ['Engineer']   \n",
       "10  15 days ago    ['Manager']   \n",
       "\n",
       "                                             location               city  \\\n",
       "0     PO Box 225310  San Francisco California, 94122   San Francisco, US   \n",
       "1              New York New York, 10010 United States       New York, US   \n",
       "2   110 Sutter St Ste 300  San Francisco Californi...  San Francisco, US   \n",
       "3                                      Scottsdale, US     Scottsdale, US   \n",
       "4                                   San Francisco, US  San Francisco, US   \n",
       "5                                   San Francisco, US  San Francisco, US   \n",
       "6   100 California St Ste 700  San Francisco Calif...  San Francisco, US   \n",
       "7                                   San Francisco, US  San Francisco, US   \n",
       "8   424 Broadway Unit 602 New York New York, 10013...       New York, US   \n",
       "9                                   San Francisco, US  San Francisco, US   \n",
       "10               San Mateo California,  United States      San Mateo, US   \n",
       "\n",
       "    funding        lat        long  \n",
       "0     $0.0m  37.761208 -122.484690  \n",
       "1    $31.7m  40.739460  -73.982571  \n",
       "2    $10.0m  37.790225 -122.402697  \n",
       "3    $14.7m  33.494909 -111.926061  \n",
       "4     $2.1m  37.780080 -122.420168  \n",
       "5     $3.0m  37.780080 -122.420168  \n",
       "6   $283.7m  37.793949 -122.398062  \n",
       "7     $5.2m  37.780080 -122.420168  \n",
       "8    $12.3m  40.719571  -74.001355  \n",
       "9     $1.6m  37.780080 -122.420168  \n",
       "10   $11.0m  37.547166 -122.314351  "
      ]
     },
     "execution_count": 5,
     "metadata": {},
     "output_type": "execute_result"
    }
   ],
   "source": [
    "s = pd.read_csv('./output.csv')\n",
    "# cities = s[\"location\"].tolist()\n",
    "fd = pd.DataFrame(s)\n",
    "del fd[\"Unnamed: 0\"]\n",
    "fd"
   ]
  },
  {
   "cell_type": "code",
   "execution_count": 7,
   "metadata": {},
   "outputs": [
    {
     "data": {
      "application/vnd.plotly.v1+json": {
       "config": {
        "plotlyServerURL": "https://plot.ly"
       },
       "data": [
        {
         "customdata": [
          [
           "Able Health",
           "San Francisco, US",
           "1 day ago",
           "$0.0m",
           "PO Box 225310  San Francisco California, 94122 "
          ],
          [
           "The Muse",
           "New York, US",
           "1 day ago",
           "$31.7m",
           "  New York New York, 10010 United States"
          ],
          [
           "Iris Automation",
           "San Francisco, US",
           "2 days ago",
           "$10.0m",
           "110 Sutter St Ste 300  San Francisco California, 94104 "
          ],
          [
           "BuildZoom",
           "Scottsdale, US",
           "4 days ago",
           "$14.7m",
           "Scottsdale, US"
          ],
          [
           "Substack",
           "San Francisco, US",
           "5 days ago",
           "$2.1m",
           "San Francisco, US"
          ],
          [
           "Smarking",
           "San Francisco, US",
           "6 days ago",
           "$3.0m",
           "San Francisco, US"
          ],
          [
           "Segment",
           "San Francisco, US",
           "6 days ago",
           "$283.7m",
           "100 California St Ste 700  San Francisco California, 94111 "
          ],
          [
           "NuCypher",
           "San Francisco, US",
           "7 days ago",
           "$5.2m",
           "San Francisco, US"
          ],
          [
           "Impraise",
           "New York, US",
           "8 days ago",
           "$12.3m",
           "424 Broadway Unit 602 New York New York, 10013 United States"
          ],
          [
           "CoinTracker",
           "San Francisco, US",
           "12 days ago",
           "$1.6m",
           "San Francisco, US"
          ],
          [
           "OneSignal",
           "San Mateo, US",
           "15 days ago",
           "$11.0m",
           "  San Mateo California,  United States"
          ]
         ],
         "hoverlabel": {
          "namelength": 0
         },
         "hovertemplate": "<b>%{hovertext}</b><br><br>company=%{customdata[0]}<br>city=%{customdata[1]}<br>date_posted=%{customdata[2]}<br>funding=%{customdata[3]}<br>location=%{customdata[4]}<br>lat=%{lat}<br>long=%{lon}",
         "hovertext": [
          "Able Health",
          "The Muse",
          "Iris Automation",
          "BuildZoom",
          "Substack",
          "Smarking",
          "Segment",
          "NuCypher",
          "Impraise",
          "CoinTracker",
          "OneSignal"
         ],
         "lat": [
          37.761208,
          40.73946,
          37.790225,
          33.494909,
          37.78008,
          37.78008,
          37.793949,
          37.78008,
          40.719571,
          37.78008,
          37.547166
         ],
         "legendgroup": "",
         "lon": [
          -122.48468999999999,
          -73.982571,
          -122.402697,
          -111.926061,
          -122.42016799999999,
          -122.42016799999999,
          -122.39806200000001,
          -122.42016799999999,
          -74.001355,
          -122.42016799999999,
          -122.314351
         ],
         "marker": {
          "color": "green"
         },
         "mode": "markers",
         "name": "",
         "showlegend": false,
         "subplot": "mapbox",
         "type": "scattermapbox"
        }
       ],
       "layout": {
        "height": 300,
        "legend": {
         "tracegroupgap": 0
        },
        "mapbox": {
         "center": {
          "lat": 37.90607345454545,
          "lon": -112.65367809090908
         },
         "domain": {
          "x": [
           0,
           1
          ],
          "y": [
           0,
           1
          ]
         },
         "style": "open-street-map",
         "zoom": 3
        },
        "margin": {
         "b": 0,
         "l": 0,
         "r": 0,
         "t": 0
        },
        "template": {
         "data": {
          "bar": [
           {
            "error_x": {
             "color": "#2a3f5f"
            },
            "error_y": {
             "color": "#2a3f5f"
            },
            "marker": {
             "line": {
              "color": "#E5ECF6",
              "width": 0.5
             }
            },
            "type": "bar"
           }
          ],
          "barpolar": [
           {
            "marker": {
             "line": {
              "color": "#E5ECF6",
              "width": 0.5
             }
            },
            "type": "barpolar"
           }
          ],
          "carpet": [
           {
            "aaxis": {
             "endlinecolor": "#2a3f5f",
             "gridcolor": "white",
             "linecolor": "white",
             "minorgridcolor": "white",
             "startlinecolor": "#2a3f5f"
            },
            "baxis": {
             "endlinecolor": "#2a3f5f",
             "gridcolor": "white",
             "linecolor": "white",
             "minorgridcolor": "white",
             "startlinecolor": "#2a3f5f"
            },
            "type": "carpet"
           }
          ],
          "choropleth": [
           {
            "colorbar": {
             "outlinewidth": 0,
             "ticks": ""
            },
            "type": "choropleth"
           }
          ],
          "contour": [
           {
            "colorbar": {
             "outlinewidth": 0,
             "ticks": ""
            },
            "colorscale": [
             [
              0,
              "#0d0887"
             ],
             [
              0.1111111111111111,
              "#46039f"
             ],
             [
              0.2222222222222222,
              "#7201a8"
             ],
             [
              0.3333333333333333,
              "#9c179e"
             ],
             [
              0.4444444444444444,
              "#bd3786"
             ],
             [
              0.5555555555555556,
              "#d8576b"
             ],
             [
              0.6666666666666666,
              "#ed7953"
             ],
             [
              0.7777777777777778,
              "#fb9f3a"
             ],
             [
              0.8888888888888888,
              "#fdca26"
             ],
             [
              1,
              "#f0f921"
             ]
            ],
            "type": "contour"
           }
          ],
          "contourcarpet": [
           {
            "colorbar": {
             "outlinewidth": 0,
             "ticks": ""
            },
            "type": "contourcarpet"
           }
          ],
          "heatmap": [
           {
            "colorbar": {
             "outlinewidth": 0,
             "ticks": ""
            },
            "colorscale": [
             [
              0,
              "#0d0887"
             ],
             [
              0.1111111111111111,
              "#46039f"
             ],
             [
              0.2222222222222222,
              "#7201a8"
             ],
             [
              0.3333333333333333,
              "#9c179e"
             ],
             [
              0.4444444444444444,
              "#bd3786"
             ],
             [
              0.5555555555555556,
              "#d8576b"
             ],
             [
              0.6666666666666666,
              "#ed7953"
             ],
             [
              0.7777777777777778,
              "#fb9f3a"
             ],
             [
              0.8888888888888888,
              "#fdca26"
             ],
             [
              1,
              "#f0f921"
             ]
            ],
            "type": "heatmap"
           }
          ],
          "heatmapgl": [
           {
            "colorbar": {
             "outlinewidth": 0,
             "ticks": ""
            },
            "colorscale": [
             [
              0,
              "#0d0887"
             ],
             [
              0.1111111111111111,
              "#46039f"
             ],
             [
              0.2222222222222222,
              "#7201a8"
             ],
             [
              0.3333333333333333,
              "#9c179e"
             ],
             [
              0.4444444444444444,
              "#bd3786"
             ],
             [
              0.5555555555555556,
              "#d8576b"
             ],
             [
              0.6666666666666666,
              "#ed7953"
             ],
             [
              0.7777777777777778,
              "#fb9f3a"
             ],
             [
              0.8888888888888888,
              "#fdca26"
             ],
             [
              1,
              "#f0f921"
             ]
            ],
            "type": "heatmapgl"
           }
          ],
          "histogram": [
           {
            "marker": {
             "colorbar": {
              "outlinewidth": 0,
              "ticks": ""
             }
            },
            "type": "histogram"
           }
          ],
          "histogram2d": [
           {
            "colorbar": {
             "outlinewidth": 0,
             "ticks": ""
            },
            "colorscale": [
             [
              0,
              "#0d0887"
             ],
             [
              0.1111111111111111,
              "#46039f"
             ],
             [
              0.2222222222222222,
              "#7201a8"
             ],
             [
              0.3333333333333333,
              "#9c179e"
             ],
             [
              0.4444444444444444,
              "#bd3786"
             ],
             [
              0.5555555555555556,
              "#d8576b"
             ],
             [
              0.6666666666666666,
              "#ed7953"
             ],
             [
              0.7777777777777778,
              "#fb9f3a"
             ],
             [
              0.8888888888888888,
              "#fdca26"
             ],
             [
              1,
              "#f0f921"
             ]
            ],
            "type": "histogram2d"
           }
          ],
          "histogram2dcontour": [
           {
            "colorbar": {
             "outlinewidth": 0,
             "ticks": ""
            },
            "colorscale": [
             [
              0,
              "#0d0887"
             ],
             [
              0.1111111111111111,
              "#46039f"
             ],
             [
              0.2222222222222222,
              "#7201a8"
             ],
             [
              0.3333333333333333,
              "#9c179e"
             ],
             [
              0.4444444444444444,
              "#bd3786"
             ],
             [
              0.5555555555555556,
              "#d8576b"
             ],
             [
              0.6666666666666666,
              "#ed7953"
             ],
             [
              0.7777777777777778,
              "#fb9f3a"
             ],
             [
              0.8888888888888888,
              "#fdca26"
             ],
             [
              1,
              "#f0f921"
             ]
            ],
            "type": "histogram2dcontour"
           }
          ],
          "mesh3d": [
           {
            "colorbar": {
             "outlinewidth": 0,
             "ticks": ""
            },
            "type": "mesh3d"
           }
          ],
          "parcoords": [
           {
            "line": {
             "colorbar": {
              "outlinewidth": 0,
              "ticks": ""
             }
            },
            "type": "parcoords"
           }
          ],
          "pie": [
           {
            "automargin": true,
            "type": "pie"
           }
          ],
          "scatter": [
           {
            "marker": {
             "colorbar": {
              "outlinewidth": 0,
              "ticks": ""
             }
            },
            "type": "scatter"
           }
          ],
          "scatter3d": [
           {
            "line": {
             "colorbar": {
              "outlinewidth": 0,
              "ticks": ""
             }
            },
            "marker": {
             "colorbar": {
              "outlinewidth": 0,
              "ticks": ""
             }
            },
            "type": "scatter3d"
           }
          ],
          "scattercarpet": [
           {
            "marker": {
             "colorbar": {
              "outlinewidth": 0,
              "ticks": ""
             }
            },
            "type": "scattercarpet"
           }
          ],
          "scattergeo": [
           {
            "marker": {
             "colorbar": {
              "outlinewidth": 0,
              "ticks": ""
             }
            },
            "type": "scattergeo"
           }
          ],
          "scattergl": [
           {
            "marker": {
             "colorbar": {
              "outlinewidth": 0,
              "ticks": ""
             }
            },
            "type": "scattergl"
           }
          ],
          "scattermapbox": [
           {
            "marker": {
             "colorbar": {
              "outlinewidth": 0,
              "ticks": ""
             }
            },
            "type": "scattermapbox"
           }
          ],
          "scatterpolar": [
           {
            "marker": {
             "colorbar": {
              "outlinewidth": 0,
              "ticks": ""
             }
            },
            "type": "scatterpolar"
           }
          ],
          "scatterpolargl": [
           {
            "marker": {
             "colorbar": {
              "outlinewidth": 0,
              "ticks": ""
             }
            },
            "type": "scatterpolargl"
           }
          ],
          "scatterternary": [
           {
            "marker": {
             "colorbar": {
              "outlinewidth": 0,
              "ticks": ""
             }
            },
            "type": "scatterternary"
           }
          ],
          "surface": [
           {
            "colorbar": {
             "outlinewidth": 0,
             "ticks": ""
            },
            "colorscale": [
             [
              0,
              "#0d0887"
             ],
             [
              0.1111111111111111,
              "#46039f"
             ],
             [
              0.2222222222222222,
              "#7201a8"
             ],
             [
              0.3333333333333333,
              "#9c179e"
             ],
             [
              0.4444444444444444,
              "#bd3786"
             ],
             [
              0.5555555555555556,
              "#d8576b"
             ],
             [
              0.6666666666666666,
              "#ed7953"
             ],
             [
              0.7777777777777778,
              "#fb9f3a"
             ],
             [
              0.8888888888888888,
              "#fdca26"
             ],
             [
              1,
              "#f0f921"
             ]
            ],
            "type": "surface"
           }
          ],
          "table": [
           {
            "cells": {
             "fill": {
              "color": "#EBF0F8"
             },
             "line": {
              "color": "white"
             }
            },
            "header": {
             "fill": {
              "color": "#C8D4E3"
             },
             "line": {
              "color": "white"
             }
            },
            "type": "table"
           }
          ]
         },
         "layout": {
          "annotationdefaults": {
           "arrowcolor": "#2a3f5f",
           "arrowhead": 0,
           "arrowwidth": 1
          },
          "coloraxis": {
           "colorbar": {
            "outlinewidth": 0,
            "ticks": ""
           }
          },
          "colorscale": {
           "diverging": [
            [
             0,
             "#8e0152"
            ],
            [
             0.1,
             "#c51b7d"
            ],
            [
             0.2,
             "#de77ae"
            ],
            [
             0.3,
             "#f1b6da"
            ],
            [
             0.4,
             "#fde0ef"
            ],
            [
             0.5,
             "#f7f7f7"
            ],
            [
             0.6,
             "#e6f5d0"
            ],
            [
             0.7,
             "#b8e186"
            ],
            [
             0.8,
             "#7fbc41"
            ],
            [
             0.9,
             "#4d9221"
            ],
            [
             1,
             "#276419"
            ]
           ],
           "sequential": [
            [
             0,
             "#0d0887"
            ],
            [
             0.1111111111111111,
             "#46039f"
            ],
            [
             0.2222222222222222,
             "#7201a8"
            ],
            [
             0.3333333333333333,
             "#9c179e"
            ],
            [
             0.4444444444444444,
             "#bd3786"
            ],
            [
             0.5555555555555556,
             "#d8576b"
            ],
            [
             0.6666666666666666,
             "#ed7953"
            ],
            [
             0.7777777777777778,
             "#fb9f3a"
            ],
            [
             0.8888888888888888,
             "#fdca26"
            ],
            [
             1,
             "#f0f921"
            ]
           ],
           "sequentialminus": [
            [
             0,
             "#0d0887"
            ],
            [
             0.1111111111111111,
             "#46039f"
            ],
            [
             0.2222222222222222,
             "#7201a8"
            ],
            [
             0.3333333333333333,
             "#9c179e"
            ],
            [
             0.4444444444444444,
             "#bd3786"
            ],
            [
             0.5555555555555556,
             "#d8576b"
            ],
            [
             0.6666666666666666,
             "#ed7953"
            ],
            [
             0.7777777777777778,
             "#fb9f3a"
            ],
            [
             0.8888888888888888,
             "#fdca26"
            ],
            [
             1,
             "#f0f921"
            ]
           ]
          },
          "colorway": [
           "#636efa",
           "#EF553B",
           "#00cc96",
           "#ab63fa",
           "#FFA15A",
           "#19d3f3",
           "#FF6692",
           "#B6E880",
           "#FF97FF",
           "#FECB52"
          ],
          "font": {
           "color": "#2a3f5f"
          },
          "geo": {
           "bgcolor": "white",
           "lakecolor": "white",
           "landcolor": "#E5ECF6",
           "showlakes": true,
           "showland": true,
           "subunitcolor": "white"
          },
          "hoverlabel": {
           "align": "left"
          },
          "hovermode": "closest",
          "mapbox": {
           "style": "light"
          },
          "paper_bgcolor": "white",
          "plot_bgcolor": "#E5ECF6",
          "polar": {
           "angularaxis": {
            "gridcolor": "white",
            "linecolor": "white",
            "ticks": ""
           },
           "bgcolor": "#E5ECF6",
           "radialaxis": {
            "gridcolor": "white",
            "linecolor": "white",
            "ticks": ""
           }
          },
          "scene": {
           "xaxis": {
            "backgroundcolor": "#E5ECF6",
            "gridcolor": "white",
            "gridwidth": 2,
            "linecolor": "white",
            "showbackground": true,
            "ticks": "",
            "zerolinecolor": "white"
           },
           "yaxis": {
            "backgroundcolor": "#E5ECF6",
            "gridcolor": "white",
            "gridwidth": 2,
            "linecolor": "white",
            "showbackground": true,
            "ticks": "",
            "zerolinecolor": "white"
           },
           "zaxis": {
            "backgroundcolor": "#E5ECF6",
            "gridcolor": "white",
            "gridwidth": 2,
            "linecolor": "white",
            "showbackground": true,
            "ticks": "",
            "zerolinecolor": "white"
           }
          },
          "shapedefaults": {
           "line": {
            "color": "#2a3f5f"
           }
          },
          "ternary": {
           "aaxis": {
            "gridcolor": "white",
            "linecolor": "white",
            "ticks": ""
           },
           "baxis": {
            "gridcolor": "white",
            "linecolor": "white",
            "ticks": ""
           },
           "bgcolor": "#E5ECF6",
           "caxis": {
            "gridcolor": "white",
            "linecolor": "white",
            "ticks": ""
           }
          },
          "title": {
           "x": 0.05
          },
          "xaxis": {
           "automargin": true,
           "gridcolor": "white",
           "linecolor": "white",
           "ticks": "",
           "title": {
            "standoff": 15
           },
           "zerolinecolor": "white",
           "zerolinewidth": 2
          },
          "yaxis": {
           "automargin": true,
           "gridcolor": "white",
           "linecolor": "white",
           "ticks": "",
           "title": {
            "standoff": 15
           },
           "zerolinecolor": "white",
           "zerolinewidth": 2
          }
         }
        }
       }
      },
      "text/html": [
       "<div>\n",
       "        \n",
       "        \n",
       "            <div id=\"e4903b5e-729b-4d21-a1e8-5a7d0e26d3e2\" class=\"plotly-graph-div\" style=\"height:300px; width:100%;\"></div>\n",
       "            <script type=\"text/javascript\">\n",
       "                require([\"plotly\"], function(Plotly) {\n",
       "                    window.PLOTLYENV=window.PLOTLYENV || {};\n",
       "                    \n",
       "                if (document.getElementById(\"e4903b5e-729b-4d21-a1e8-5a7d0e26d3e2\")) {\n",
       "                    Plotly.newPlot(\n",
       "                        'e4903b5e-729b-4d21-a1e8-5a7d0e26d3e2',\n",
       "                        [{\"customdata\": [[\"Able Health\", \"San Francisco, US\", \"1 day ago\", \"$0.0m\", \"PO Box 225310  San Francisco California, 94122 \"], [\"The Muse\", \"New York, US\", \"1 day ago\", \"$31.7m\", \"  New York New York, 10010 United States\"], [\"Iris Automation\", \"San Francisco, US\", \"2 days ago\", \"$10.0m\", \"110 Sutter St Ste 300  San Francisco California, 94104 \"], [\"BuildZoom\", \"Scottsdale, US\", \"4 days ago\", \"$14.7m\", \"Scottsdale, US\"], [\"Substack\", \"San Francisco, US\", \"5 days ago\", \"$2.1m\", \"San Francisco, US\"], [\"Smarking\", \"San Francisco, US\", \"6 days ago\", \"$3.0m\", \"San Francisco, US\"], [\"Segment\", \"San Francisco, US\", \"6 days ago\", \"$283.7m\", \"100 California St Ste 700  San Francisco California, 94111 \"], [\"NuCypher\", \"San Francisco, US\", \"7 days ago\", \"$5.2m\", \"San Francisco, US\"], [\"Impraise\", \"New York, US\", \"8 days ago\", \"$12.3m\", \"424 Broadway Unit 602 New York New York, 10013 United States\"], [\"CoinTracker\", \"San Francisco, US\", \"12 days ago\", \"$1.6m\", \"San Francisco, US\"], [\"OneSignal\", \"San Mateo, US\", \"15 days ago\", \"$11.0m\", \"  San Mateo California,  United States\"]], \"hoverlabel\": {\"namelength\": 0}, \"hovertemplate\": \"<b>%{hovertext}</b><br><br>company=%{customdata[0]}<br>city=%{customdata[1]}<br>date_posted=%{customdata[2]}<br>funding=%{customdata[3]}<br>location=%{customdata[4]}<br>lat=%{lat}<br>long=%{lon}\", \"hovertext\": [\"Able Health\", \"The Muse\", \"Iris Automation\", \"BuildZoom\", \"Substack\", \"Smarking\", \"Segment\", \"NuCypher\", \"Impraise\", \"CoinTracker\", \"OneSignal\"], \"lat\": [37.761208, 40.73946, 37.790225, 33.494909, 37.78008, 37.78008, 37.793949, 37.78008, 40.719571, 37.78008, 37.547166], \"legendgroup\": \"\", \"lon\": [-122.48468999999999, -73.982571, -122.402697, -111.926061, -122.42016799999999, -122.42016799999999, -122.39806200000001, -122.42016799999999, -74.001355, -122.42016799999999, -122.314351], \"marker\": {\"color\": \"green\"}, \"mode\": \"markers\", \"name\": \"\", \"showlegend\": false, \"subplot\": \"mapbox\", \"type\": \"scattermapbox\"}],\n",
       "                        {\"height\": 300, \"legend\": {\"tracegroupgap\": 0}, \"mapbox\": {\"center\": {\"lat\": 37.90607345454545, \"lon\": -112.65367809090908}, \"domain\": {\"x\": [0.0, 1.0], \"y\": [0.0, 1.0]}, \"style\": \"open-street-map\", \"zoom\": 3}, \"margin\": {\"b\": 0, \"l\": 0, \"r\": 0, \"t\": 0}, \"template\": {\"data\": {\"bar\": [{\"error_x\": {\"color\": \"#2a3f5f\"}, \"error_y\": {\"color\": \"#2a3f5f\"}, \"marker\": {\"line\": {\"color\": \"#E5ECF6\", \"width\": 0.5}}, \"type\": \"bar\"}], \"barpolar\": [{\"marker\": {\"line\": {\"color\": \"#E5ECF6\", \"width\": 0.5}}, \"type\": \"barpolar\"}], \"carpet\": [{\"aaxis\": {\"endlinecolor\": \"#2a3f5f\", \"gridcolor\": \"white\", \"linecolor\": \"white\", \"minorgridcolor\": \"white\", \"startlinecolor\": \"#2a3f5f\"}, \"baxis\": {\"endlinecolor\": \"#2a3f5f\", \"gridcolor\": \"white\", \"linecolor\": \"white\", \"minorgridcolor\": \"white\", \"startlinecolor\": \"#2a3f5f\"}, \"type\": \"carpet\"}], \"choropleth\": [{\"colorbar\": {\"outlinewidth\": 0, \"ticks\": \"\"}, \"type\": \"choropleth\"}], \"contour\": [{\"colorbar\": {\"outlinewidth\": 0, \"ticks\": \"\"}, \"colorscale\": [[0.0, \"#0d0887\"], [0.1111111111111111, \"#46039f\"], [0.2222222222222222, \"#7201a8\"], [0.3333333333333333, \"#9c179e\"], [0.4444444444444444, \"#bd3786\"], [0.5555555555555556, \"#d8576b\"], [0.6666666666666666, \"#ed7953\"], [0.7777777777777778, \"#fb9f3a\"], [0.8888888888888888, \"#fdca26\"], [1.0, \"#f0f921\"]], \"type\": \"contour\"}], \"contourcarpet\": [{\"colorbar\": {\"outlinewidth\": 0, \"ticks\": \"\"}, \"type\": \"contourcarpet\"}], \"heatmap\": [{\"colorbar\": {\"outlinewidth\": 0, \"ticks\": \"\"}, \"colorscale\": [[0.0, \"#0d0887\"], [0.1111111111111111, \"#46039f\"], [0.2222222222222222, \"#7201a8\"], [0.3333333333333333, \"#9c179e\"], [0.4444444444444444, \"#bd3786\"], [0.5555555555555556, \"#d8576b\"], [0.6666666666666666, \"#ed7953\"], [0.7777777777777778, \"#fb9f3a\"], [0.8888888888888888, \"#fdca26\"], [1.0, \"#f0f921\"]], \"type\": \"heatmap\"}], \"heatmapgl\": [{\"colorbar\": {\"outlinewidth\": 0, \"ticks\": \"\"}, \"colorscale\": [[0.0, \"#0d0887\"], [0.1111111111111111, \"#46039f\"], [0.2222222222222222, \"#7201a8\"], [0.3333333333333333, \"#9c179e\"], [0.4444444444444444, \"#bd3786\"], [0.5555555555555556, \"#d8576b\"], [0.6666666666666666, \"#ed7953\"], [0.7777777777777778, \"#fb9f3a\"], [0.8888888888888888, \"#fdca26\"], [1.0, \"#f0f921\"]], \"type\": \"heatmapgl\"}], \"histogram\": [{\"marker\": {\"colorbar\": {\"outlinewidth\": 0, \"ticks\": \"\"}}, \"type\": \"histogram\"}], \"histogram2d\": [{\"colorbar\": {\"outlinewidth\": 0, \"ticks\": \"\"}, \"colorscale\": [[0.0, \"#0d0887\"], [0.1111111111111111, \"#46039f\"], [0.2222222222222222, \"#7201a8\"], [0.3333333333333333, \"#9c179e\"], [0.4444444444444444, \"#bd3786\"], [0.5555555555555556, \"#d8576b\"], [0.6666666666666666, \"#ed7953\"], [0.7777777777777778, \"#fb9f3a\"], [0.8888888888888888, \"#fdca26\"], [1.0, \"#f0f921\"]], \"type\": \"histogram2d\"}], \"histogram2dcontour\": [{\"colorbar\": {\"outlinewidth\": 0, \"ticks\": \"\"}, \"colorscale\": [[0.0, \"#0d0887\"], [0.1111111111111111, \"#46039f\"], [0.2222222222222222, \"#7201a8\"], [0.3333333333333333, \"#9c179e\"], [0.4444444444444444, \"#bd3786\"], [0.5555555555555556, \"#d8576b\"], [0.6666666666666666, \"#ed7953\"], [0.7777777777777778, \"#fb9f3a\"], [0.8888888888888888, \"#fdca26\"], [1.0, \"#f0f921\"]], \"type\": \"histogram2dcontour\"}], \"mesh3d\": [{\"colorbar\": {\"outlinewidth\": 0, \"ticks\": \"\"}, \"type\": \"mesh3d\"}], \"parcoords\": [{\"line\": {\"colorbar\": {\"outlinewidth\": 0, \"ticks\": \"\"}}, \"type\": \"parcoords\"}], \"pie\": [{\"automargin\": true, \"type\": \"pie\"}], \"scatter\": [{\"marker\": {\"colorbar\": {\"outlinewidth\": 0, \"ticks\": \"\"}}, \"type\": \"scatter\"}], \"scatter3d\": [{\"line\": {\"colorbar\": {\"outlinewidth\": 0, \"ticks\": \"\"}}, \"marker\": {\"colorbar\": {\"outlinewidth\": 0, \"ticks\": \"\"}}, \"type\": \"scatter3d\"}], \"scattercarpet\": [{\"marker\": {\"colorbar\": {\"outlinewidth\": 0, \"ticks\": \"\"}}, \"type\": \"scattercarpet\"}], \"scattergeo\": [{\"marker\": {\"colorbar\": {\"outlinewidth\": 0, \"ticks\": \"\"}}, \"type\": \"scattergeo\"}], \"scattergl\": [{\"marker\": {\"colorbar\": {\"outlinewidth\": 0, \"ticks\": \"\"}}, \"type\": \"scattergl\"}], \"scattermapbox\": [{\"marker\": {\"colorbar\": {\"outlinewidth\": 0, \"ticks\": \"\"}}, \"type\": \"scattermapbox\"}], \"scatterpolar\": [{\"marker\": {\"colorbar\": {\"outlinewidth\": 0, \"ticks\": \"\"}}, \"type\": \"scatterpolar\"}], \"scatterpolargl\": [{\"marker\": {\"colorbar\": {\"outlinewidth\": 0, \"ticks\": \"\"}}, \"type\": \"scatterpolargl\"}], \"scatterternary\": [{\"marker\": {\"colorbar\": {\"outlinewidth\": 0, \"ticks\": \"\"}}, \"type\": \"scatterternary\"}], \"surface\": [{\"colorbar\": {\"outlinewidth\": 0, \"ticks\": \"\"}, \"colorscale\": [[0.0, \"#0d0887\"], [0.1111111111111111, \"#46039f\"], [0.2222222222222222, \"#7201a8\"], [0.3333333333333333, \"#9c179e\"], [0.4444444444444444, \"#bd3786\"], [0.5555555555555556, \"#d8576b\"], [0.6666666666666666, \"#ed7953\"], [0.7777777777777778, \"#fb9f3a\"], [0.8888888888888888, \"#fdca26\"], [1.0, \"#f0f921\"]], \"type\": \"surface\"}], \"table\": [{\"cells\": {\"fill\": {\"color\": \"#EBF0F8\"}, \"line\": {\"color\": \"white\"}}, \"header\": {\"fill\": {\"color\": \"#C8D4E3\"}, \"line\": {\"color\": \"white\"}}, \"type\": \"table\"}]}, \"layout\": {\"annotationdefaults\": {\"arrowcolor\": \"#2a3f5f\", \"arrowhead\": 0, \"arrowwidth\": 1}, \"coloraxis\": {\"colorbar\": {\"outlinewidth\": 0, \"ticks\": \"\"}}, \"colorscale\": {\"diverging\": [[0, \"#8e0152\"], [0.1, \"#c51b7d\"], [0.2, \"#de77ae\"], [0.3, \"#f1b6da\"], [0.4, \"#fde0ef\"], [0.5, \"#f7f7f7\"], [0.6, \"#e6f5d0\"], [0.7, \"#b8e186\"], [0.8, \"#7fbc41\"], [0.9, \"#4d9221\"], [1, \"#276419\"]], \"sequential\": [[0.0, \"#0d0887\"], [0.1111111111111111, \"#46039f\"], [0.2222222222222222, \"#7201a8\"], [0.3333333333333333, \"#9c179e\"], [0.4444444444444444, \"#bd3786\"], [0.5555555555555556, \"#d8576b\"], [0.6666666666666666, \"#ed7953\"], [0.7777777777777778, \"#fb9f3a\"], [0.8888888888888888, \"#fdca26\"], [1.0, \"#f0f921\"]], \"sequentialminus\": [[0.0, \"#0d0887\"], [0.1111111111111111, \"#46039f\"], [0.2222222222222222, \"#7201a8\"], [0.3333333333333333, \"#9c179e\"], [0.4444444444444444, \"#bd3786\"], [0.5555555555555556, \"#d8576b\"], [0.6666666666666666, \"#ed7953\"], [0.7777777777777778, \"#fb9f3a\"], [0.8888888888888888, \"#fdca26\"], [1.0, \"#f0f921\"]]}, \"colorway\": [\"#636efa\", \"#EF553B\", \"#00cc96\", \"#ab63fa\", \"#FFA15A\", \"#19d3f3\", \"#FF6692\", \"#B6E880\", \"#FF97FF\", \"#FECB52\"], \"font\": {\"color\": \"#2a3f5f\"}, \"geo\": {\"bgcolor\": \"white\", \"lakecolor\": \"white\", \"landcolor\": \"#E5ECF6\", \"showlakes\": true, \"showland\": true, \"subunitcolor\": \"white\"}, \"hoverlabel\": {\"align\": \"left\"}, \"hovermode\": \"closest\", \"mapbox\": {\"style\": \"light\"}, \"paper_bgcolor\": \"white\", \"plot_bgcolor\": \"#E5ECF6\", \"polar\": {\"angularaxis\": {\"gridcolor\": \"white\", \"linecolor\": \"white\", \"ticks\": \"\"}, \"bgcolor\": \"#E5ECF6\", \"radialaxis\": {\"gridcolor\": \"white\", \"linecolor\": \"white\", \"ticks\": \"\"}}, \"scene\": {\"xaxis\": {\"backgroundcolor\": \"#E5ECF6\", \"gridcolor\": \"white\", \"gridwidth\": 2, \"linecolor\": \"white\", \"showbackground\": true, \"ticks\": \"\", \"zerolinecolor\": \"white\"}, \"yaxis\": {\"backgroundcolor\": \"#E5ECF6\", \"gridcolor\": \"white\", \"gridwidth\": 2, \"linecolor\": \"white\", \"showbackground\": true, \"ticks\": \"\", \"zerolinecolor\": \"white\"}, \"zaxis\": {\"backgroundcolor\": \"#E5ECF6\", \"gridcolor\": \"white\", \"gridwidth\": 2, \"linecolor\": \"white\", \"showbackground\": true, \"ticks\": \"\", \"zerolinecolor\": \"white\"}}, \"shapedefaults\": {\"line\": {\"color\": \"#2a3f5f\"}}, \"ternary\": {\"aaxis\": {\"gridcolor\": \"white\", \"linecolor\": \"white\", \"ticks\": \"\"}, \"baxis\": {\"gridcolor\": \"white\", \"linecolor\": \"white\", \"ticks\": \"\"}, \"bgcolor\": \"#E5ECF6\", \"caxis\": {\"gridcolor\": \"white\", \"linecolor\": \"white\", \"ticks\": \"\"}}, \"title\": {\"x\": 0.05}, \"xaxis\": {\"automargin\": true, \"gridcolor\": \"white\", \"linecolor\": \"white\", \"ticks\": \"\", \"title\": {\"standoff\": 15}, \"zerolinecolor\": \"white\", \"zerolinewidth\": 2}, \"yaxis\": {\"automargin\": true, \"gridcolor\": \"white\", \"linecolor\": \"white\", \"ticks\": \"\", \"title\": {\"standoff\": 15}, \"zerolinecolor\": \"white\", \"zerolinewidth\": 2}}}},\n",
       "                        {\"responsive\": true}\n",
       "                    ).then(function(){\n",
       "                            \n",
       "var gd = document.getElementById('e4903b5e-729b-4d21-a1e8-5a7d0e26d3e2');\n",
       "var x = new MutationObserver(function (mutations, observer) {{\n",
       "        var display = window.getComputedStyle(gd).display;\n",
       "        if (!display || display === 'none') {{\n",
       "            console.log([gd, 'removed!']);\n",
       "            Plotly.purge(gd);\n",
       "            observer.disconnect();\n",
       "        }}\n",
       "}});\n",
       "\n",
       "// Listen for the removal of the full notebook cells\n",
       "var notebookContainer = gd.closest('#notebook-container');\n",
       "if (notebookContainer) {{\n",
       "    x.observe(notebookContainer, {childList: true});\n",
       "}}\n",
       "\n",
       "// Listen for the clearing of the current output cell\n",
       "var outputEl = gd.closest('.output');\n",
       "if (outputEl) {{\n",
       "    x.observe(outputEl, {childList: true});\n",
       "}}\n",
       "\n",
       "                        })\n",
       "                };\n",
       "                });\n",
       "            </script>\n",
       "        </div>"
      ]
     },
     "metadata": {},
     "output_type": "display_data"
    }
   ],
   "source": [
    "# for i in range(len(fd[\"lat\"])):\n",
    "#     fd[\"lat\"][i] += random.randint(-1,1)\n",
    "#     fd[\"long\"][i] += random.randint(-1,1)\n",
    "#     lat = fd[\"lat\"]\n",
    "#     long = fd[\"long\"]\n",
    "#     fd.at[i,\"lat\"] = lat[i] + random.gauss(-.05, .05)\n",
    "#     fd.at[i,\"long\"] = long[i] + random.gauss(-.05, .05)\n",
    "\n",
    "uniqueCities = fd[\"city\"].unique()\n",
    "\n",
    "# for city in uniqueCities:\n",
    "#     rows = fd.loc[fd[\"city\"] == city]\n",
    "#     print(city, len(rows))\n",
    "#     latstdev = .01*(max(rows[\"lat\"])-min(rows[\"lat\"]))\n",
    "#     longstdev = .01*(max(rows[\"long\"])-min(rows[\"long\"]))\n",
    "#     latjitter = rows[\"lat\"] + np.random.randn(len(rows[\"lat\"])) * latstdev\n",
    "#     longjitter = rows[\"long\"] + np.random.randn(len(rows[\"long\"])) * longstdev\n",
    "#     for i in range(len(rows[\"lat\"])):\n",
    "#         fd.loc[fd[\"post_title\"] == list(rows[\"post_title\"])[i], \"lat\"] = list(latjitter)[i]\n",
    "#         fd.loc[fd[\"post_title\"] == list(rows[\"post_title\"])[i], \"long\"] = list(longjitter)[i]\n",
    "\n",
    "# latstdev = .0001*(max(fd[\"lat\"])-min(fd[\"lat\"]))\n",
    "# longstdev = .001*(max(fd[\"long\"])-min(fd[\"long\"]))\n",
    "# latjitter = fd[\"lat\"] + np.random.randn(len(fd[\"lat\"])) * latstdev\n",
    "# longjitter = fd[\"long\"] + np.random.randn(len(fd[\"long\"])) * longstdev\n",
    "\n",
    "# for i in range(len(fd[\"lat\"])):\n",
    "#     fd.at[i,\"lat\"] = latjitter[i]\n",
    "#     fd.at[i,\"long\"] = longjitter[i]\n",
    "\n",
    "fd['text'] = fd['company'] + '@' + fd['city'] + ', ' + fd['date_posted'] + ' ' + 'Funding: ' + fd['funding'].astype(str)\n",
    "\n",
    "\n",
    "fig = px.scatter_mapbox(fd, lat = fd[\"lat\"], lon = fd[\"long\"], \n",
    "                        hover_name=\"company\", \n",
    "                        hover_data=[fd['company'], fd['city'], fd['date_posted'],fd['funding'],fd['location']], \n",
    "                        color_discrete_sequence=[\"green\"], zoom=3, height=300)\n",
    "fig.update_layout(mapbox_style=\"open-street-map\")\n",
    "fig.update_layout(margin={\"r\":0,\"t\":0,\"l\":0,\"b\":0})\n",
    "# fig = go.Figure(data=go.Scattergeo(\n",
    "#         locationmode = 'USA-states',\n",
    "#         lon = fd['long'],\n",
    "#         lat = fd['lat'],\n",
    "#         text = fd['text'],\n",
    "#         mode = 'markers',\n",
    "#         marker = dict(\n",
    "#             size = 8,\n",
    "#             opacity = 0.8,\n",
    "#             reversescale = True,\n",
    "#             autocolorscale = False,\n",
    "#             symbol = 'square',\n",
    "#             line = dict(\n",
    "#                 width=1,\n",
    "#                 color='rgba(102, 102, 102)'\n",
    "#             ),\n",
    "#             colorscale = 'Blues',\n",
    "#             cmin = 0,\n",
    "#             color = df['cnt'],\n",
    "#             cmax = df['cnt'].max(),\n",
    "#             colorbar_title=\"Incoming flights<br>February 2011\"\n",
    "#         )))\n",
    "\n",
    "# fig.update_layout(\n",
    "#         title = 'Jobs in USA',\n",
    "#         geo = dict(\n",
    "#             scope='usa',\n",
    "#             projection_type='albers usa',\n",
    "#             showland = True,\n",
    "#             landcolor = \"rgb(150, 150, 150)\",\n",
    "#             subunitcolor = \"rgb(217, 217, 217)\",\n",
    "#             countrycolor = \"rgb(217, 217, 217)\",\n",
    "#             countrywidth = 0.5,\n",
    "#             subunitwidth = 0.5\n",
    "#         ),\n",
    "#     )\n",
    "fig.show()"
   ]
  },
  {
   "cell_type": "code",
   "execution_count": null,
   "metadata": {},
   "outputs": [],
   "source": []
  }
 ],
 "metadata": {
  "kernelspec": {
   "display_name": "Python 3",
   "language": "python",
   "name": "python3"
  },
  "language_info": {
   "codemirror_mode": {
    "name": "ipython",
    "version": 3
   },
   "file_extension": ".py",
   "mimetype": "text/x-python",
   "name": "python",
   "nbconvert_exporter": "python",
   "pygments_lexer": "ipython3",
   "version": "3.7.4"
  }
 },
 "nbformat": 4,
 "nbformat_minor": 2
}
